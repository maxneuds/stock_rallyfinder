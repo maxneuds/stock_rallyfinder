{
 "cells": [
  {
   "cell_type": "markdown",
   "metadata": {},
   "source": [
    "# headline"
   ]
  },
  {
   "cell_type": "markdown",
   "metadata": {},
   "source": [
    "Yahoo Finance API documentation: [here](http://theautomatic.net/yahoo_fin-documentation)"
   ]
  },
  {
   "cell_type": "code",
   "execution_count": 114,
   "metadata": {},
   "outputs": [],
   "source": [
    "import numpy as np\n",
    "import pandas as pd\n",
    "import matplotlib.pyplot as plt\n",
    "import yahoo_fin.stock_info as si\n",
    "from datetime import date\n",
    "from datetime import datetime\n",
    "import time\n",
    "import sched\n",
    "import csv\n",
    "from streamz import Stream\n",
    "from apscheduler.schedulers.blocking import BlockingScheduler\n",
    "from apscheduler.schedulers.background import BackgroundScheduler"
   ]
  },
  {
   "cell_type": "code",
   "execution_count": 108,
   "metadata": {},
   "outputs": [],
   "source": [
    "tickers = [\n",
    "  'AMD', 'INTC', 'NVDA', 'MSFT', 'TSLA',\n",
    "  'SOW.DE', '7CD.F', 'ATVI', 'TTWO', 'CON.DE',\n",
    "  'FRA.DE', 'FOOD.TO'\n",
    "]"
   ]
  },
  {
   "cell_type": "code",
   "execution_count": 109,
   "metadata": {},
   "outputs": [],
   "source": [
    "def get_livedata(ticker):\n",
    "  livedata = {}\n",
    "  liveprice = si.get_live_price(ticker)\n",
    "  now = datetime.now()\n",
    "  livedata['TICKER'] = ticker\n",
    "  livedata['PRICE'] = liveprice\n",
    "  livedata['DATE'] = f'{now.month}/{now.day}'\n",
    "  livedata['TIME'] = f'{now.hour}:{now.minute}:{now.second}'\n",
    "  return(livedata)"
   ]
  },
  {
   "cell_type": "code",
   "execution_count": 110,
   "metadata": {},
   "outputs": [],
   "source": [
    "filename = 'livedata.csv'\n",
    "\n",
    "def csv_init(header):\n",
    "  with open(filename, 'w') as f:\n",
    "    csv_writer = csv.writer(f)\n",
    "    csv_writer.writerow(header)\n",
    "\n",
    "def csv_write(livedata):\n",
    "  row = list(livedata.values())\n",
    "  with open(filename, 'a') as f:\n",
    "    csv_writer = csv.writer(f)\n",
    "    csv_writer.writerow(row)\n",
    "\n",
    "def scrape_livedata(ticker, source):\n",
    "  livedata = get_livedata(ticker)\n",
    "  source.emit(livedata)"
   ]
  },
  {
   "cell_type": "code",
   "execution_count": 122,
   "metadata": {},
   "outputs": [],
   "source": [
    "#csv_init(columns)\n",
    "source = Stream()\n",
    "source.sink(csv_write)\n",
    "\n",
    "scheduler = BackgroundScheduler()\n",
    "now = datetime.now()\n",
    "start = datetime(now.year, now.month, now.day, 8)\n",
    "end = datetime(now.year, now.month, now.day, 22)\n",
    "\n",
    "for i, ticker in enumerate(tickers):\n",
    "  delay = (2 * i) % 59 \n",
    "  scheduler.add_job(\n",
    "    scrape_livedata,\n",
    "    'cron',\n",
    "    day_of_week='0-4',\n",
    "    hour='16-21',\n",
    "    minute='*',\n",
    "    second=f'{0+delay}',\n",
    "    kwargs={'ticker': ticker, 'source': source})\n",
    "\n",
    "scheduler.start()"
   ]
  },
  {
   "cell_type": "code",
   "execution_count": 123,
   "metadata": {},
   "outputs": [],
   "source": [
    "scheduler.shutdown(wait=False)"
   ]
  },
  {
   "cell_type": "code",
   "execution_count": null,
   "metadata": {},
   "outputs": [],
   "source": []
  },
  {
   "cell_type": "code",
   "execution_count": null,
   "metadata": {},
   "outputs": [],
   "source": []
  },
  {
   "cell_type": "code",
   "execution_count": null,
   "metadata": {},
   "outputs": [],
   "source": []
  },
  {
   "cell_type": "code",
   "execution_count": null,
   "metadata": {},
   "outputs": [],
   "source": []
  },
  {
   "cell_type": "code",
   "execution_count": null,
   "metadata": {},
   "outputs": [],
   "source": []
  },
  {
   "cell_type": "markdown",
   "metadata": {},
   "source": [
    "# Tools"
   ]
  },
  {
   "cell_type": "code",
   "execution_count": 28,
   "metadata": {},
   "outputs": [
    {
     "data": {
      "application/vnd.jupyter.widget-view+json": {
       "model_id": "2ce6da703b444db6b3db7f85cd0e2a17",
       "version_major": 2,
       "version_minor": 0
      },
      "text/plain": [
       "VBox(children=(HBox(children=(Text(value='NVDA'), Button(description='Run!', style=ButtonStyle()))), HBox(chil…"
      ]
     },
     "metadata": {},
     "output_type": "display_data"
    }
   ],
   "source": [
    "# widgets\n",
    "import ipywidgets as widgets\n",
    "from ipywidgets import HBox, VBox\n",
    "from IPython.display import display, Markdown, clear_output\n",
    "# finance\n",
    "import yahoo_fin.stock_info as si\n",
    "\n",
    "button = widgets.Button(description='Run!')\n",
    "input_ticker = widgets.Text(value='NVDA')\n",
    "out = widgets.Output()\n",
    "\n",
    "def on_button_clicked(_):\n",
    "      # \"linking function with output\"\n",
    "      with out:\n",
    "          # what happens when we press the button\n",
    "          clear_output()\n",
    "          ticker = input_ticker.value\n",
    "          liveprice = si.get_live_price(ticker)\n",
    "          tfin = si.get_financials(ticker)\n",
    "          yearly_balance_sheet = tfin['yearly_balance_sheet']\n",
    "          goodwill = yearly_balance_sheet.iloc[:,0]['goodWill']\n",
    "          print(f'Live Price: {liveprice}')\n",
    "          print(f'Goodwill: {goodwill}')\n",
    "# linking button and function together using a button's method\n",
    "button.on_click(on_button_clicked)\n",
    "\n",
    "# displaying button and its output together\n",
    "\n",
    "row1 = HBox([input_ticker, button])\n",
    "row2 = HBox([out, ])\n",
    "stack = VBox([row1, row2])\n",
    "stack"
   ]
  },
  {
   "cell_type": "code",
   "execution_count": null,
   "metadata": {},
   "outputs": [],
   "source": [
    "ticker = 'NVDA'"
   ]
  },
  {
   "cell_type": "markdown",
   "metadata": {},
   "source": [
    "# Tests"
   ]
  },
  {
   "cell_type": "code",
   "execution_count": 27,
   "metadata": {},
   "outputs": [
    {
     "data": {
      "text/plain": [
       "618000000.0"
      ]
     },
     "execution_count": 27,
     "metadata": {},
     "output_type": "execute_result"
    }
   ],
   "source": [
    "ticker = 'NVDA'\n",
    "tfin = si.get_financials(ticker)\n",
    "yearly_income_statement = tfin['yearly_income_statement']\n",
    "yearly_balance_sheet = tfin['yearly_balance_sheet']\n",
    "yearly_cash_flow = tfin['yearly_cash_flow']\n",
    "quarterly_income_statement = tfin['quarterly_income_statement']\n",
    "quarterly_balance_sheet = tfin['quarterly_balance_sheet']\n",
    "quarterly_cash_flow = tfin['quarterly_cash_flow']\n",
    "yearly_balance_sheet.iloc[:,0]['goodWill']"
   ]
  },
  {
   "cell_type": "code",
   "execution_count": 15,
   "metadata": {},
   "outputs": [
    {
     "data": {
      "text/plain": [
       "{'Earnings Estimate':   Earnings Estimate  Current Qtr. (Jul 2020)  Next Qtr. (Oct 2020)  \\\n",
       " 0   No. of Analysts                    30.00                 30.00   \n",
       " 1     Avg. Estimate                     1.97                  2.16   \n",
       " 2      Low Estimate                     1.93                  1.66   \n",
       " 3     High Estimate                     2.17                  2.69   \n",
       " 4      Year Ago EPS                     1.24                  1.78   \n",
       " \n",
       "    Current Year (2021)  Next Year (2022)  \n",
       " 0                35.00             35.00  \n",
       " 1                 8.12              9.88  \n",
       " 2                 6.99              8.22  \n",
       " 3                 9.31             11.98  \n",
       " 4                 5.79              8.12  ,\n",
       " 'Revenue Estimate':           Revenue Estimate Current Qtr. (Jul 2020) Next Qtr. (Oct 2020)  \\\n",
       " 0          No. of Analysts                      31                   31   \n",
       " 1            Avg. Estimate                   3.65B                3.95B   \n",
       " 2             Low Estimate                    3.6B                3.44B   \n",
       " 3            High Estimate                   3.67B                4.39B   \n",
       " 4           Year Ago Sales                     NaN                3.01B   \n",
       " 5  Sales Growth (year/est)                     NaN               31.10%   \n",
       " \n",
       "   Current Year (2021) Next Year (2022)  \n",
       " 0                  37               37  \n",
       " 1              14.64B            17.2B  \n",
       " 2              13.63B            15.6B  \n",
       " 3              15.58B           19.19B  \n",
       " 4              10.92B           14.64B  \n",
       " 5              34.10%           17.50%  ,\n",
       " 'Earnings History':   Earnings History 7/30/2019 10/30/2019 1/30/2020 4/29/2020\n",
       " 0         EPS Est.      1.14       1.57      1.67      1.69\n",
       " 1       EPS Actual      1.24       1.78      1.89       1.8\n",
       " 2       Difference       0.1       0.21      0.22      0.11\n",
       " 3       Surprise %     8.80%     13.40%    13.20%     6.50%,\n",
       " 'EPS Trend':           EPS Trend  Current Qtr. (Jul 2020)  Next Qtr. (Oct 2020)  \\\n",
       " 0  Current Estimate                     1.97                  2.16   \n",
       " 1        7 Days Ago                     1.97                  2.16   \n",
       " 2       30 Days Ago                     1.97                  2.16   \n",
       " 3       60 Days Ago                     1.79                  2.05   \n",
       " 4       90 Days Ago                     1.76                  2.06   \n",
       " \n",
       "    Current Year (2021)  Next Year (2022)  \n",
       " 0                 8.12              9.88  \n",
       " 1                 8.12              9.88  \n",
       " 2                 8.12              9.88  \n",
       " 3                 7.59              9.13  \n",
       " 4                 7.55              9.08  ,\n",
       " 'EPS Revisions':        EPS Revisions  Current Qtr. (Jul 2020)  Next Qtr. (Oct 2020)  \\\n",
       " 0     Up Last 7 Days                      NaN                   NaN   \n",
       " 1    Up Last 30 Days                      1.0                   1.0   \n",
       " 2   Down Last 7 Days                      NaN                   NaN   \n",
       " 3  Down Last 30 Days                      NaN                   NaN   \n",
       " \n",
       "    Current Year (2021)  Next Year (2022)  \n",
       " 0                  NaN               NaN  \n",
       " 1                  1.0               1.0  \n",
       " 2                  NaN               NaN  \n",
       " 3                  NaN               NaN  ,\n",
       " 'Growth Estimates':            Growth Estimates    NVDA  Industry  Sector(s)  S&P 500\n",
       " 0              Current Qtr.  58.90%       NaN        NaN      NaN\n",
       " 1                 Next Qtr.  21.30%       NaN        NaN      NaN\n",
       " 2              Current Year  40.20%       NaN        NaN      NaN\n",
       " 3                 Next Year  21.70%       NaN        NaN      NaN\n",
       " 4  Next 5 Years (per annum)  14.91%       NaN        NaN      NaN\n",
       " 5  Past 5 Years (per annum)  52.83%       NaN        NaN      NaN}"
      ]
     },
     "execution_count": 15,
     "metadata": {},
     "output_type": "execute_result"
    }
   ],
   "source": [
    "si.get_analysts_info(ticker)"
   ]
  },
  {
   "cell_type": "code",
   "execution_count": 16,
   "metadata": {},
   "outputs": [
    {
     "data": {
      "text/plain": [
       "{'yearly_income_statement': endDate                             2020-01-26   2019-01-27  2018-01-28  \\\n",
       " Breakdown                                                                 \n",
       " researchDevelopment                 2829000000   2376000000  1797000000   \n",
       " effectOfAccountingCharges                 None         None        None   \n",
       " incomeBeforeTax                     2970000000   3896000000  3196000000   \n",
       " minorityInterest                          None         None        None   \n",
       " netIncome                           2796000000   4141000000  3047000000   \n",
       " sellingGeneralAdministrative        1093000000    991000000   815000000   \n",
       " grossProfit                         6768000000   7171000000  5822000000   \n",
       " ebit                                2846000000   3804000000  3210000000   \n",
       " operatingIncome                     2846000000   3804000000  3210000000   \n",
       " otherOperatingExpenses                    None         None        None   \n",
       " interestExpense                      -52000000    -58000000   -61000000   \n",
       " extraordinaryItems                        None         None        None   \n",
       " nonRecurring                              None         None        None   \n",
       " otherItems                                None         None        None   \n",
       " incomeTaxExpense                     174000000   -245000000   149000000   \n",
       " totalRevenue                       10918000000  11716000000  9714000000   \n",
       " totalOperatingExpenses              8072000000   7912000000  6504000000   \n",
       " costOfRevenue                       4150000000   4545000000  3892000000   \n",
       " totalOtherIncomeExpenseNet           124000000     92000000   -14000000   \n",
       " discontinuedOperations                    None         None        None   \n",
       " netIncomeFromContinuingOps          2796000000   4141000000  3047000000   \n",
       " netIncomeApplicableToCommonShares   2796000000   4141000000  3047000000   \n",
       " \n",
       " endDate                            2017-01-29  \n",
       " Breakdown                                      \n",
       " researchDevelopment                1463000000  \n",
       " effectOfAccountingCharges                None  \n",
       " incomeBeforeTax                    1905000000  \n",
       " minorityInterest                         None  \n",
       " netIncome                          1666000000  \n",
       " sellingGeneralAdministrative        663000000  \n",
       " grossProfit                        4063000000  \n",
       " ebit                               1937000000  \n",
       " operatingIncome                    1937000000  \n",
       " otherOperatingExpenses                   None  \n",
       " interestExpense                     -58000000  \n",
       " extraordinaryItems                       None  \n",
       " nonRecurring                             None  \n",
       " otherItems                               None  \n",
       " incomeTaxExpense                    239000000  \n",
       " totalRevenue                       6910000000  \n",
       " totalOperatingExpenses             4973000000  \n",
       " costOfRevenue                      2847000000  \n",
       " totalOtherIncomeExpenseNet          -32000000  \n",
       " discontinuedOperations                   None  \n",
       " netIncomeFromContinuingOps         1666000000  \n",
       " netIncomeApplicableToCommonShares  1666000000  ,\n",
       " 'yearly_balance_sheet': endDate                         2020-01-26    2019-01-27    2018-01-28  \\\n",
       " Breakdown                                                                \n",
       " intangibleAssets              4.900000e+07  4.500000e+07  5.200000e+07   \n",
       " capitalSurplus                7.045000e+09  6.051000e+09  5.351000e+09   \n",
       " totalLiab                     5.111000e+09  3.950000e+09  3.770000e+09   \n",
       " totalStockholderEquity        1.220400e+10  9.342000e+09  7.471000e+09   \n",
       " otherCurrentLiab              8.030000e+08  6.180000e+08  3.180000e+08   \n",
       " totalAssets                   1.731500e+10  1.329200e+10  1.124100e+10   \n",
       " commonStock                   1.000000e+06  1.000000e+06  1.000000e+06   \n",
       " retainedEarnings              1.497100e+10  1.256500e+10  8.787000e+09   \n",
       " otherLiab                     7.750000e+08  6.330000e+08  6.320000e+08   \n",
       " goodWill                      6.180000e+08  6.180000e+08  6.180000e+08   \n",
       " treasuryStock                -9.813000e+09 -9.275000e+09 -6.668000e+09   \n",
       " otherAssets                   6.660000e+08  6.680000e+08  3.190000e+08   \n",
       " cash                          1.089600e+10  7.820000e+08  4.002000e+09   \n",
       " totalCurrentLiabilities       1.784000e+09  1.329000e+09  1.153000e+09   \n",
       " deferredLongTermAssetCharges  5.480000e+08  5.600000e+08  2.450000e+08   \n",
       " otherStockholderEquity        1.000000e+06 -1.200000e+07 -1.800000e+07   \n",
       " propertyPlantEquipment        2.292000e+09  1.404000e+09  9.970000e+08   \n",
       " totalCurrentAssets            1.369000e+10  1.055700e+10  9.255000e+09   \n",
       " netTangibleAssets             1.153700e+10  8.679000e+09  6.801000e+09   \n",
       " shortTermInvestments          1.000000e+06  6.640000e+09  3.106000e+09   \n",
       " netReceivables                1.657000e+09  1.424000e+09  1.265000e+09   \n",
       " longTermDebt                  1.991000e+09  1.988000e+09  1.985000e+09   \n",
       " inventory                     9.790000e+08  1.575000e+09  7.960000e+08   \n",
       " accountsPayable               6.870000e+08  5.110000e+08  5.960000e+08   \n",
       " shortLongTermDebt                      NaN           NaN  1.500000e+07   \n",
       " \n",
       " endDate                         2017-01-29  \n",
       " Breakdown                                   \n",
       " intangibleAssets              1.040000e+08  \n",
       " capitalSurplus                4.708000e+09  \n",
       " totalLiab                     4.079000e+09  \n",
       " totalStockholderEquity        5.762000e+09  \n",
       " otherCurrentLiab              3.250000e+08  \n",
       " totalAssets                   9.841000e+09  \n",
       " commonStock                   1.000000e+06  \n",
       " retainedEarnings              6.108000e+09  \n",
       " otherLiab                     3.080000e+08  \n",
       " goodWill                      6.180000e+08  \n",
       " treasuryStock                -5.055000e+09  \n",
       " otherAssets                   6.200000e+07  \n",
       " cash                          1.766000e+09  \n",
       " totalCurrentLiabilities       1.788000e+09  \n",
       " deferredLongTermAssetCharges           NaN  \n",
       " otherStockholderEquity       -1.600000e+07  \n",
       " propertyPlantEquipment        5.210000e+08  \n",
       " totalCurrentAssets            8.536000e+09  \n",
       " netTangibleAssets             5.040000e+09  \n",
       " shortTermInvestments          5.032000e+09  \n",
       " netReceivables                8.260000e+08  \n",
       " longTermDebt                  1.983000e+09  \n",
       " inventory                     7.940000e+08  \n",
       " accountsPayable               4.850000e+08  \n",
       " shortLongTermDebt             7.960000e+08  ,\n",
       " 'yearly_cash_flow': endDate                                  2020-01-26    2019-01-27  \\\n",
       " Breakdown                                                           \n",
       " investments                            6.634000e+09 -3.497000e+09   \n",
       " changeToLiabilities                    1.940000e+08 -1.350000e+08   \n",
       " totalCashflowsFromInvestingActivities  6.145000e+09 -4.097000e+09   \n",
       " totalCashFromFinancingActivities      -7.920000e+08 -2.866000e+09   \n",
       " changeToOperatingActivities            1.590000e+08  2.030000e+08   \n",
       " issuanceOfStock                        1.490000e+08  1.370000e+08   \n",
       " netIncome                              2.796000e+09  4.141000e+09   \n",
       " changeInCash                           1.011400e+10 -3.220000e+09   \n",
       " repurchaseOfStock                     -5.510000e+08 -2.611000e+09   \n",
       " totalCashFromOperatingActivities       4.761000e+09  3.743000e+09   \n",
       " depreciation                           3.810000e+08  2.620000e+08   \n",
       " dividendsPaid                         -3.900000e+08 -3.710000e+08   \n",
       " changeToInventory                      5.970000e+08 -7.760000e+08   \n",
       " changeToAccountReceivables            -2.330000e+08 -1.490000e+08   \n",
       " changeToNetincome                      8.670000e+08  1.970000e+08   \n",
       " capitalExpenditures                   -4.890000e+08 -6.000000e+08   \n",
       " netBorrowings                                   NaN -1.600000e+07   \n",
       " otherCashflowsFromFinancingActivities           NaN -5.000000e+06   \n",
       " otherCashflowsFromInvestingActivities           NaN           NaN   \n",
       " \n",
       " endDate                                  2018-01-28    2017-01-29  \n",
       " Breakdown                                                          \n",
       " investments                            1.869000e+09 -6.240000e+08  \n",
       " changeToLiabilities                    9.000000e+07  1.840000e+08  \n",
       " totalCashflowsFromInvestingActivities  1.278000e+09 -7.930000e+08  \n",
       " totalCashFromFinancingActivities      -2.544000e+09  2.910000e+08  \n",
       " changeToOperatingActivities            5.350000e+08 -1.670000e+08  \n",
       " issuanceOfStock                        1.390000e+08  1.670000e+08  \n",
       " netIncome                              3.047000e+09  1.666000e+09  \n",
       " changeInCash                           2.236000e+09  1.170000e+09  \n",
       " repurchaseOfStock                     -1.521000e+09 -9.150000e+08  \n",
       " totalCashFromOperatingActivities       3.502000e+09  1.672000e+09  \n",
       " depreciation                           1.990000e+08  1.870000e+08  \n",
       " dividendsPaid                         -3.410000e+08 -2.610000e+08  \n",
       " changeToInventory                     -7.760000e+08 -3.750000e+08  \n",
       " changeToAccountReceivables            -4.400000e+08 -3.210000e+08  \n",
       " changeToNetincome                      7.100000e+07  4.980000e+08  \n",
       " capitalExpenditures                   -5.930000e+08 -1.760000e+08  \n",
       " netBorrowings                         -8.120000e+08  1.315000e+09  \n",
       " otherCashflowsFromFinancingActivities -9.000000e+06 -1.500000e+07  \n",
       " otherCashflowsFromInvestingActivities           NaN -5.000000e+06  ,\n",
       " 'quarterly_income_statement': endDate                            2020-04-26  2020-01-26  2019-10-27  \\\n",
       " Breakdown                                                               \n",
       " researchDevelopment                 735000000   738000000   712000000   \n",
       " effectOfAccountingCharges                None        None        None   \n",
       " incomeBeforeTax                     981000000  1016000000   959000000   \n",
       " minorityInterest                         None        None        None   \n",
       " netIncome                           917000000   951000000   899000000   \n",
       " sellingGeneralAdministrative        293000000   287000000   277000000   \n",
       " grossProfit                        2004000000  2015000000  1916000000   \n",
       " ebit                                976000000   990000000   927000000   \n",
       " operatingIncome                     976000000   990000000   927000000   \n",
       " otherOperatingExpenses                   None        None        None   \n",
       " interestExpense                     -25000000   -13000000   -13000000   \n",
       " extraordinaryItems                       None        None        None   \n",
       " nonRecurring                             None        None        None   \n",
       " otherItems                               None        None        None   \n",
       " incomeTaxExpense                     64000000    65000000    60000000   \n",
       " totalRevenue                       3080000000  3105000000  3014000000   \n",
       " totalOperatingExpenses             2104000000  2115000000  2087000000   \n",
       " costOfRevenue                      1076000000  1090000000  1098000000   \n",
       " totalOtherIncomeExpenseNet            5000000    26000000    32000000   \n",
       " discontinuedOperations                   None        None        None   \n",
       " netIncomeFromContinuingOps          917000000   951000000   899000000   \n",
       " netIncomeApplicableToCommonShares   917000000   951000000   899000000   \n",
       " \n",
       " endDate                            2019-07-28  \n",
       " Breakdown                                      \n",
       " researchDevelopment                 704000000  \n",
       " effectOfAccountingCharges                None  \n",
       " incomeBeforeTax                     606000000  \n",
       " minorityInterest                         None  \n",
       " netIncome                           552000000  \n",
       " sellingGeneralAdministrative        266000000  \n",
       " grossProfit                        1541000000  \n",
       " ebit                                571000000  \n",
       " operatingIncome                     571000000  \n",
       " otherOperatingExpenses                   None  \n",
       " interestExpense                     -13000000  \n",
       " extraordinaryItems                       None  \n",
       " nonRecurring                             None  \n",
       " otherItems                               None  \n",
       " incomeTaxExpense                     54000000  \n",
       " totalRevenue                       2579000000  \n",
       " totalOperatingExpenses             2008000000  \n",
       " costOfRevenue                      1038000000  \n",
       " totalOtherIncomeExpenseNet           35000000  \n",
       " discontinuedOperations                   None  \n",
       " netIncomeFromContinuingOps          552000000  \n",
       " netIncomeApplicableToCommonShares   552000000  ,\n",
       " 'quarterly_balance_sheet': endDate                        2020-04-26   2020-01-26   2019-10-27  \\\n",
       " Breakdown                                                             \n",
       " intangibleAssets                 80000000     49000000     43000000   \n",
       " capitalSurplus                 7354000000   7045000000   6824000000   \n",
       " totalLiab                     10155000000   5111000000   4596000000   \n",
       " totalStockholderEquity        13099000000  12204000000  11214000000   \n",
       " otherCurrentLiab                858000000    803000000    622000000   \n",
       " totalAssets                   23254000000  17315000000  15810000000   \n",
       " commonStock                       1000000      1000000      1000000   \n",
       " retainedEarnings              15790000000  14971000000  14118000000   \n",
       " otherLiab                       774000000    775000000    662000000   \n",
       " goodWill                        628000000    618000000    618000000   \n",
       " treasuryStock                -10046000000  -9813000000  -9729000000   \n",
       " otherAssets                     652000000    666000000    685000000   \n",
       " cash                          15494000000  10896000000   9765000000   \n",
       " totalCurrentLiabilities        1903000000   1784000000   1475000000   \n",
       " deferredLongTermAssetCharges    533000000    548000000    569000000   \n",
       " otherStockholderEquity          -10000000      1000000     -3000000   \n",
       " propertyPlantEquipment         2310000000   2292000000   2044000000   \n",
       " totalCurrentAssets            19584000000  13690000000  12420000000   \n",
       " netTangibleAssets             12391000000  11537000000  10553000000   \n",
       " shortTermInvestments            860000000      1000000      4000000   \n",
       " netReceivables                 1907000000   1657000000   1455000000   \n",
       " longTermDebt                   6959000000   1991000000   1990000000   \n",
       " inventory                      1128000000    979000000   1047000000   \n",
       " accountsPayable                 761000000    687000000    591000000   \n",
       " \n",
       " endDate                        2019-07-28  \n",
       " Breakdown                                  \n",
       " intangibleAssets                 49000000  \n",
       " capitalSurplus                 6543000000  \n",
       " totalLiab                      4439000000  \n",
       " totalStockholderEquity        10336000000  \n",
       " otherCurrentLiab                593000000  \n",
       " totalAssets                   14775000000  \n",
       " commonStock                       1000000  \n",
       " retainedEarnings              13317000000  \n",
       " otherLiab                       650000000  \n",
       " goodWill                        618000000  \n",
       " treasuryStock                 -9525000000  \n",
       " otherAssets                     698000000  \n",
       " cash                           7105000000  \n",
       " totalCurrentLiabilities        1317000000  \n",
       " deferredLongTermAssetCharges    588000000  \n",
       " otherStockholderEquity           -1000000  \n",
       " propertyPlantEquipment         2019000000  \n",
       " totalCurrentAssets            11391000000  \n",
       " netTangibleAssets              9669000000  \n",
       " shortTermInvestments           1370000000  \n",
       " netReceivables                 1561000000  \n",
       " longTermDebt                   1989000000  \n",
       " inventory                      1204000000  \n",
       " accountsPayable                 437000000  ,\n",
       " 'quarterly_cash_flow': endDate                                2020-04-26  2020-01-26  2019-10-27  \\\n",
       " Breakdown                                                                   \n",
       " investments                            -866000000    -6000000  1359000000   \n",
       " changeToLiabilities                      71000000   103000000   136000000   \n",
       " totalCashflowsFromInvestingActivities -1055000000  -151000000  1256000000   \n",
       " netBorrowings                          4979000000  4979000000  4979000000   \n",
       " totalCashFromFinancingActivities       4744000000  -183000000  -236000000   \n",
       " changeToOperatingActivities             -30000000   197000000     7000000   \n",
       " issuanceOfStock                          88000000     3000000    63000000   \n",
       " netIncome                               917000000   951000000   899000000   \n",
       " changeInCash                           4598000000  1131000000  2660000000   \n",
       " repurchaseOfStock                      -222000000   -88000000  -202000000   \n",
       " totalCashFromOperatingActivities        909000000  1465000000  1640000000   \n",
       " depreciation                            107000000   106000000    92000000   \n",
       " dividendsPaid                           -98000000   -98000000   -97000000   \n",
       " changeToInventory                      -151000000    66000000   153000000   \n",
       " changeToAccountReceivables             -249000000  -201000000   105000000   \n",
       " otherCashflowsFromFinancingActivities    -3000000    -3000000    -3000000   \n",
       " changeToNetincome                       244000000   243000000   249000000   \n",
       " capitalExpenditures                    -155000000  -145000000  -103000000   \n",
       " \n",
       " endDate                                2019-07-28  \n",
       " Breakdown                                          \n",
       " investments                            3658000000  \n",
       " changeToLiabilities                      78000000  \n",
       " totalCashflowsFromInvestingActivities  3545000000  \n",
       " netBorrowings                          4979000000  \n",
       " totalCashFromFinancingActivities       -148000000  \n",
       " changeToOperatingActivities              66000000  \n",
       " issuanceOfStock                          63000000  \n",
       " netIncome                               552000000  \n",
       " changeInCash                           4333000000  \n",
       " repurchaseOfStock                       -50000000  \n",
       " totalCashFromOperatingActivities        936000000  \n",
       " depreciation                             92000000  \n",
       " dividendsPaid                           -98000000  \n",
       " changeToInventory                       225000000  \n",
       " changeToAccountReceivables             -319000000  \n",
       " otherCashflowsFromFinancingActivities    -3000000  \n",
       " changeToNetincome                       241000000  \n",
       " capitalExpenditures                    -113000000  }"
      ]
     },
     "execution_count": 16,
     "metadata": {},
     "output_type": "execute_result"
    }
   ],
   "source": [
    "si.get_financials(ticker)"
   ]
  },
  {
   "cell_type": "code",
   "execution_count": 10,
   "metadata": {},
   "outputs": [
    {
     "data": {
      "text/html": [
       "<div>\n",
       "<style scoped>\n",
       "    .dataframe tbody tr th:only-of-type {\n",
       "        vertical-align: middle;\n",
       "    }\n",
       "\n",
       "    .dataframe tbody tr th {\n",
       "        vertical-align: top;\n",
       "    }\n",
       "\n",
       "    .dataframe thead th {\n",
       "        text-align: right;\n",
       "    }\n",
       "</style>\n",
       "<table border=\"1\" class=\"dataframe\">\n",
       "  <thead>\n",
       "    <tr style=\"text-align: right;\">\n",
       "      <th></th>\n",
       "      <th>open</th>\n",
       "      <th>high</th>\n",
       "      <th>low</th>\n",
       "      <th>close</th>\n",
       "      <th>adjclose</th>\n",
       "      <th>volume</th>\n",
       "      <th>ticker</th>\n",
       "    </tr>\n",
       "  </thead>\n",
       "  <tbody>\n",
       "    <tr>\n",
       "      <th>2020-07-17</th>\n",
       "      <td>409.019989</td>\n",
       "      <td>409.940002</td>\n",
       "      <td>403.510010</td>\n",
       "      <td>408.059998</td>\n",
       "      <td>408.059998</td>\n",
       "      <td>6654100</td>\n",
       "      <td>NVDA</td>\n",
       "    </tr>\n",
       "    <tr>\n",
       "      <th>2020-07-16</th>\n",
       "      <td>400.600006</td>\n",
       "      <td>408.269989</td>\n",
       "      <td>395.820007</td>\n",
       "      <td>405.390015</td>\n",
       "      <td>405.390015</td>\n",
       "      <td>8624100</td>\n",
       "      <td>NVDA</td>\n",
       "    </tr>\n",
       "    <tr>\n",
       "      <th>2020-07-15</th>\n",
       "      <td>416.570007</td>\n",
       "      <td>417.320007</td>\n",
       "      <td>402.230011</td>\n",
       "      <td>409.089996</td>\n",
       "      <td>409.089996</td>\n",
       "      <td>10099600</td>\n",
       "      <td>NVDA</td>\n",
       "    </tr>\n",
       "    <tr>\n",
       "      <th>2020-07-14</th>\n",
       "      <td>403.000000</td>\n",
       "      <td>416.109985</td>\n",
       "      <td>391.420013</td>\n",
       "      <td>415.079987</td>\n",
       "      <td>415.079987</td>\n",
       "      <td>13566900</td>\n",
       "      <td>NVDA</td>\n",
       "    </tr>\n",
       "    <tr>\n",
       "      <th>2020-07-13</th>\n",
       "      <td>423.799988</td>\n",
       "      <td>431.690002</td>\n",
       "      <td>401.000000</td>\n",
       "      <td>402.089996</td>\n",
       "      <td>402.089996</td>\n",
       "      <td>11426900</td>\n",
       "      <td>NVDA</td>\n",
       "    </tr>\n",
       "  </tbody>\n",
       "</table>\n",
       "</div>"
      ],
      "text/plain": [
       "                  open        high         low       close    adjclose  \\\n",
       "2020-07-17  409.019989  409.940002  403.510010  408.059998  408.059998   \n",
       "2020-07-16  400.600006  408.269989  395.820007  405.390015  405.390015   \n",
       "2020-07-15  416.570007  417.320007  402.230011  409.089996  409.089996   \n",
       "2020-07-14  403.000000  416.109985  391.420013  415.079987  415.079987   \n",
       "2020-07-13  423.799988  431.690002  401.000000  402.089996  402.089996   \n",
       "\n",
       "              volume ticker  \n",
       "2020-07-17   6654100   NVDA  \n",
       "2020-07-16   8624100   NVDA  \n",
       "2020-07-15  10099600   NVDA  \n",
       "2020-07-14  13566900   NVDA  \n",
       "2020-07-13  11426900   NVDA  "
      ]
     },
     "execution_count": 10,
     "metadata": {},
     "output_type": "execute_result"
    }
   ],
   "source": [
    "df = si.get_data(stock, start_date='01/01/2018', interval='1d')\n",
    "df.sort_index(ascending=False).head()"
   ]
  },
  {
   "cell_type": "code",
   "execution_count": 17,
   "metadata": {},
   "outputs": [
    {
     "data": {
      "text/plain": [
       "408.05999755859375"
      ]
     },
     "execution_count": 17,
     "metadata": {},
     "output_type": "execute_result"
    }
   ],
   "source": [
    "si.get_live_price(ticker)"
   ]
  },
  {
   "cell_type": "markdown",
   "metadata": {},
   "source": [
    "## get lists of tickers"
   ]
  },
  {
   "cell_type": "code",
   "execution_count": 20,
   "metadata": {},
   "outputs": [
    {
     "name": "stdout",
     "output_type": "stream",
     "text": [
      "['AAPL', 'AXP', 'BA', 'CAT', 'CSCO', 'CVX', 'DIS', 'DOW', 'GS', 'HD', 'IBM', 'INTC', 'JNJ', 'JPM', 'KO', 'MCD', 'MMM', 'MRK', 'MSFT', 'NKE', 'PFE', 'PG', 'RTX', 'TRV', 'UNH', 'V', 'VZ', 'WBA', 'WMT', 'XOM']\n"
     ]
    }
   ],
   "source": [
    "dow = si.tickers_dow()\n",
    "print(dow)"
   ]
  },
  {
   "cell_type": "code",
   "execution_count": 21,
   "metadata": {},
   "outputs": [
    {
     "name": "stdout",
     "output_type": "stream",
     "text": [
      "['AACG', 'AACQU', 'AAL', 'AAME', 'AAOI', 'AAON', 'AAPL', 'AAWW', 'AAXJ', 'AAXN', 'ABCB', 'ABEO', 'ABIO', 'ABMD', 'ABTX', 'ABUS', 'ACAD', 'ACAM', 'ACAMU', 'ACAMW', 'ACBI', 'ACCD', 'ACER', 'ACGL', 'ACGLO', 'ACGLP', 'ACHC', 'ACHV', 'ACIA', 'ACIU', 'ACIW', 'ACLS', 'ACMR', 'ACNB', 'ACOR', 'ACRS', 'ACRX', 'ACST', 'ACT', 'ACTG', 'ACWI', 'ACWX', 'ADAP', 'ADBE', 'ADES', 'ADI', 'ADIL', 'ADILW', 'ADMA', 'ADMP', 'ADMS', 'ADP', 'ADPT', 'ADRE', 'ADRO', 'ADSK', 'ADTN', 'ADTX', 'ADUS', 'ADVM', 'ADXN', 'ADXS', 'AEGN', 'AEHR', 'AEIS', 'AEMD', 'AERI', 'AESE', 'AEY', 'AEYE', 'AEZS', 'AFH', 'AFIN', 'AFINP', 'AFMD', 'AFYA', 'AGBA', 'AGBAR', 'AGBAU', 'AGBAW', 'AGEN', 'AGFS', 'AGFSW', 'AGIO', 'AGLE', 'AGMH', 'AGNC', 'AGNCM', 'AGNCN', 'AGNCO', 'AGNCP', 'AGRX', 'AGTC', 'AGYS', 'AGZD', 'AHCO', 'AHPI', 'AIA', 'AIH', 'AIHS', 'AIKI', 'AIMC', 'AIMT', 'AINV', 'AIQ', 'AIRG', 'AIRR', 'AIRT', 'AIRTP', 'AIRTW', 'AKAM', 'AKBA', 'AKCA', 'AKER', 'AKRO', 'AKTS', 'AKTX', 'AKUS', 'ALAC', 'ALACR', 'ALACU', 'ALACW', 'ALBO', 'ALCO', 'ALDX', 'ALEC', 'ALGN', 'ALGT', 'ALIM', 'ALJJ', 'ALKS', 'ALLK', 'ALLO', 'ALLT', 'ALNA', 'ALNY', 'ALOT', 'ALPN', 'ALRM', 'ALRN', 'ALRS', 'ALSK', 'ALT', 'ALTA', 'ALTM', 'ALTR', 'ALTY', 'ALXN', 'ALXO', 'ALYA', 'AMAG', 'AMAL', 'AMAT', 'AMBA', 'AMCA', 'AMCI', 'AMCIU', 'AMCIW', 'AMCX', 'AMD', 'AMED', 'AMEH', 'AMGN', 'AMHC', 'AMHCU', 'AMHCW', 'AMKR', 'AMNB', 'AMOT', 'AMPH', 'AMRB', 'AMRH', 'AMRHW', 'AMRK', 'AMRN', 'AMRS', 'AMSC', 'AMSF', 'AMSWA', 'AMTB', 'AMTBB', 'AMTD', 'AMTI', 'AMTX', 'AMWD', 'AMYT', 'AMZN', 'ANAB', 'ANAT', 'ANCN', 'ANDA', 'ANDAR', 'ANDAU', 'ANDAW', 'ANDE', 'ANGI', 'ANGL', 'ANGO', 'ANIK', 'ANIP', 'ANIX', 'ANPC', 'ANSS', 'ANTE', 'ANY', 'AOSL', 'APA', 'APDN', 'APEI', 'APEN', 'APEX', 'APHA', 'API', 'APLS', 'APLT', 'APM', 'APOG', 'APOP', 'APOPW', 'APPF', 'APPN', 'APPS', 'APRE', 'APTO', 'APTX', 'APVO', 'APWC', 'APXT', 'APXTU', 'APXTW', 'APYX', 'AQB', 'AQMS', 'AQST', 'ARAV', 'ARAY', 'ARCB', 'ARCC', 'ARCE', 'ARCT', 'ARDS', 'ARDX', 'AREC', 'ARGX', 'ARKR', 'ARLP', 'ARNA', 'AROW', 'ARPO', 'ARQT', 'ARTL', 'ARTLW', 'ARTNA', 'ARTW', 'ARVN', 'ARWR', 'ARYBU', 'ASET', 'ASFI', 'ASLN', 'ASMB', 'ASML', 'ASNA', 'ASND', 'ASPS', 'ASPU', 'ASRT', 'ASRV', 'ASRVP', 'ASTC', 'ASTE', 'ASUR', 'ASYS', 'ATAX', 'ATCX', 'ATCXW', 'ATEC', 'ATEX', 'ATHE', 'ATHX', 'ATIF', 'ATLC', 'ATLO', 'ATNI', 'ATNX', 'ATOM', 'ATOS', 'ATRA', 'ATRC', 'ATRI', 'ATRO', 'ATRS', 'ATSG', 'ATVI', 'ATXI', 'AUB', 'AUBAP', 'AUBN', 'AUDC', 'AUPH', 'AUTL', 'AUTO', 'AVAV', 'AVCO', 'AVCT', 'AVCTW', 'AVDL', 'AVEO', 'AVGO', 'AVGOP', 'AVGR', 'AVID', 'AVNW', 'AVRO', 'AVT', 'AVXL', 'AWH', 'AWRE', 'AXAS', 'AXDX', 'AXGN', 'AXGT', 'AXLA', 'AXNX', 'AXSM', 'AXTI', 'AY', 'AYLA', 'AYRO', 'AYTU', 'AZPN', 'AZRX', 'BAND', 'BANF', 'BANFP', 'BANR', 'BANX', 'BASI', 'BATRA', 'BATRK', 'BBBY', 'BBCP', 'BBGI', 'BBH', 'BBI', 'BBIO', 'BBQ', 'BBSI', 'BCBP', 'BCDA', 'BCDAW', 'BCEL', 'BCLI', 'BCML', 'BCOM', 'BCOR', 'BCOV', 'BCOW', 'BCPC', 'BCRX', 'BCTF', 'BCYC', 'BDGE', 'BDSI', 'BDTX', 'BEAM', 'BEAT', 'BECN', 'BELFA', 'BELFB', 'BFC', 'BFIN', 'BFIT', 'BFRA', 'BFST', 'BFYT', 'BGCP', 'BGFV', 'BGNE', 'BGRN', 'BHAT', 'BHF', 'BHFAL', 'BHFAO', 'BHFAP', 'BHTG', 'BIB', 'BICK', 'BIDU', 'BIIB', 'BILI', 'BIMI', 'BIOC', 'BIOL', 'BIS', 'BJK', 'BJRI', 'BKCC', 'BKEP', 'BKEPP', 'BKNG', 'BKSC', 'BKYI', 'BL', 'BLBD', 'BLCM', 'BLCN', 'BLCT', 'BLDP', 'BLDR', 'BLFS', 'BLI', 'BLIN', 'BLKB', 'BLMN', 'BLNK', 'BLNKW', 'BLPH', 'BLRX', 'BLU', 'BLUE', 'BMCH', 'BMLP', 'BMRA', 'BMRC', 'BMRN', 'BMTC', 'BND', 'BNDW', 'BNDX', 'BNFT', 'BNGO', 'BNGOW', 'BNR', 'BNSO', 'BNTC', 'BNTX', 'BOCH', 'BOKF', 'BOKFL', 'BOMN', 'BOOM', 'BOSC', 'BOTJ', 'BOTZ', 'BOXL', 'BPFH', 'BPMC', 'BPOP', 'BPOPM', 'BPOPN', 'BPRN', 'BPTH', 'BPY', 'BPYPN', 'BPYPO', 'BPYPP', 'BPYU', 'BPYUP', 'BREW', 'BRID', 'BRKL', 'BRKR', 'BRKS', 'BRLIU', 'BROG', 'BROGW', 'BRP', 'BRPA', 'BRPAR', 'BRPAU', 'BRPAW', 'BRQS', 'BRY', 'BSAE', 'BSBE', 'BSBK', 'BSCE', 'BSCK', 'BSCL', 'BSCM', 'BSCN', 'BSCO', 'BSCP', 'BSCQ', 'BSCR', 'BSCS', 'BSCT', 'BSDE', 'BSET', 'BSGM', 'BSJK', 'BSJL', 'BSJM', 'BSJN', 'BSJO', 'BSJP', 'BSJQ', 'BSJR', 'BSML', 'BSMM', 'BSMN', 'BSMO', 'BSMP', 'BSMQ', 'BSMR', 'BSMS', 'BSMT', 'BSQR', 'BSRR', 'BSTC', 'BSVN', 'BTAI', 'BTEC', 'BUG', 'BUSE', 'BVXV', 'BWAY', 'BWB', 'BWEN', 'BWFG', 'BWMX', 'BXRX', 'BYFC', 'BYND', 'BYSI', 'BZUN', 'CAAS', 'CABA', 'CAC', 'CACC', 'CACG', 'CAKE', 'CALA', 'CALB', 'CALM', 'CALT', 'CAMP', 'CAMT', 'CAN', 'CAPR', 'CAR', 'CARA', 'CARE', 'CARG', 'CARV', 'CARZ', 'CASA', 'CASH', 'CASI', 'CASS', 'CASY', 'CATB', 'CATC', 'CATH', 'CATM', 'CATY', 'CBAN', 'CBAT', 'CBAY', 'CBFV', 'CBIO', 'CBLI', 'CBMB', 'CBMG', 'CBNK', 'CBPO', 'CBRL', 'CBSH', 'CBSHP', 'CBTX', 'CCAP', 'CCB', 'CCBG', 'CCCL', 'CCD', 'CCLP', 'CCMP', 'CCNC', 'CCNE', 'CCOI', 'CCRC', 'CCRN', 'CCXI', 'CDC', 'CDEV', 'CDK', 'CDL', 'CDLX', 'CDMO', 'CDMOP', 'CDNA', 'CDNS', 'CDTX', 'CDW', 'CDXC', 'CDXS', 'CDZI', 'CECE', 'CEFA', 'CELC', 'CELH', 'CEMI', 'CENT', 'CENTA', 'CENX', 'CERC', 'CERN', 'CERS', 'CETV', 'CETX', 'CETXP', 'CETXW', 'CEVA', 'CEY', 'CEZ', 'CFA', 'CFB', 'CFBI', 'CFBK', 'CFFA', 'CFFAU', 'CFFAW', 'CFFI', 'CFFN', 'CFMS', 'CFO', 'CFRX', 'CG', 'CGBD', 'CGEN', 'CGIX', 'CGNX', 'CGO', 'CGRO', 'CGROU', 'CGROW', 'CHCI', 'CHCO', 'CHDN', 'CHEF', 'CHEK', 'CHEKZ', 'CHFS', 'CHI', 'CHKP', 'CHMA', 'CHMG', 'CHNA', 'CHNG', 'CHNGU', 'CHNR', 'CHPM', 'CHPMU', 'CHPMW', 'CHRS', 'CHRW', 'CHSCL', 'CHSCM', 'CHSCN', 'CHSCO', 'CHSCP', 'CHTR', 'CHUY', 'CHW', 'CHY', 'CIBR', 'CID', 'CIDM', 'CIGI', 'CIH', 'CIIC', 'CIICU', 'CIICW', 'CIL', 'CINF', 'CIVB', 'CIZ', 'CIZN', 'CJJD', 'CKPT', 'CLAR', 'CLBK', 'CLBS', 'CLCT', 'CLDB', 'CLDX', 'CLEU', 'CLFD', 'CLGN', 'CLIR', 'CLLS', 'CLMT', 'CLNE', 'CLOU', 'CLPS', 'CLPT', 'CLRB', 'CLRBZ', 'CLRG', 'CLRO', 'CLSD', 'CLSK', 'CLSN', 'CLUB', 'CLVS', 'CLWT', 'CLXT', 'CMBM', 'CMCO', 'CMCSA', 'CMCT', 'CMCTP', 'CME', 'CMFNL', 'CMLS', 'CMPR', 'CMRX', 'CMTL', 'CNBKA', 'CNCE', 'CNCR', 'CNDT', 'CNET', 'CNFR', 'CNFRL', 'CNNB', 'CNOB', 'CNSL', 'CNSP', 'CNST', 'CNTG', 'CNTY', 'CNXN', 'COCP', 'CODA', 'CODX', 'COFS', 'COHR', 'COHU', 'COKE', 'COLB', 'COLL', 'COLM', 'COMM', 'COMT', 'CONE', 'CONN', 'COOP', 'CORE', 'CORT', 'COST', 'COUP', 'COWN', 'COWNL', 'COWNZ', 'CPAA', 'CPAAU', 'CPAAW', 'CPAH', 'CPHC', 'CPIX', 'CPLP', 'CPRT', 'CPRX', 'CPSH', 'CPSI', 'CPSS', 'CPST', 'CPTA', 'CPTAG', 'CPTAL', 'CPZ', 'CRAI', 'CRBP', 'CRDF', 'CREE', 'CREG', 'CRESY', 'CREX', 'CREXW', 'CRIS', 'CRMT', 'CRNC', 'CRNT', 'CRNX', 'CRON', 'CROX', 'CRSA', 'CRSAU', 'CRSAW', 'CRSP', 'CRTO', 'CRTX', 'CRUS', 'CRVL', 'CRVS', 'CRWD', 'CRWS', 'CSA', 'CSB', 'CSBR', 'CSCO', 'CSF', 'CSGP', 'CSGS', 'CSII', 'CSIQ', 'CSML', 'CSOD', 'CSPI', 'CSQ', 'CSSE', 'CSSEP', 'CSTE', 'CSTL', 'CSTR', 'CSWC', 'CSWCL', 'CSWI', 'CSX', 'CTAS', 'CTBI', 'CTG', 'CTHR', 'CTIB', 'CTIC', 'CTMX', 'CTRE', 'CTRM', 'CTRN', 'CTSH', 'CTSO', 'CTXR', 'CTXRW', 'CTXS', 'CUBA', 'CUE', 'CUTR', 'CVBF', 'CVCO', 'CVCY', 'CVET', 'CVGI', 'CVGW', 'CVLG', 'CVLT', 'CVLY', 'CVV', 'CWBC', 'CWBR', 'CWCO', 'CWST', 'CXDC', 'CXDO', 'CXSE', 'CYAD', 'CYAN', 'CYBE', 'CYBR', 'CYCC', 'CYCCP', 'CYCN', 'CYRN', 'CYRX', 'CYRXW', 'CYTK', 'CZNC', 'CZR', 'CZWI', 'DADA', 'DAIO', 'DAKT', 'DALI', 'DARE', 'DAX', 'DBCP', 'DBVT', 'DBX', 'DCOM', 'DCOMP', 'DCPH', 'DCTH', 'DDIV', 'DDOG', 'DENN', 'DFFN', 'DFHTU', 'DFNL', 'DFPH', 'DFPHU', 'DFPHW', 'DGICA', 'DGICB', 'DGII', 'DGLY', 'DGRE', 'DGRS', 'DGRW', 'DHC', 'DHCNI', 'DHCNL', 'DHIL', 'DINT', 'DIOD', 'DISCA', 'DISCB', 'DISCK', 'DISH', 'DJCO', 'DKNG', 'DKNGZ', 'DLHC', 'DLPN', 'DLPNW', 'DLTH', 'DLTR', 'DMAC', 'DMLP', 'DMPI', 'DMRC', 'DMTK', 'DMXF', 'DNJR', 'DNKN', 'DNLI', 'DOCU', 'DOGZ', 'DOMO', 'DOOO', 'DORM', 'DOX', 'DOYU', 'DPHC', 'DPHCU', 'DPHCW', 'DRAD', 'DRADP', 'DRIO', 'DRIOW', 'DRIV', 'DRNA', 'DRRX', 'DRTT', 'DSGX', 'DSKE', 'DSKEW', 'DSPG', 'DSWL', 'DTEA', 'DTIL', 'DTSS', 'DUO', 'DUOT', 'DUSA', 'DVAX', 'DVLU', 'DVOL', 'DVY', 'DWAS', 'DWAT', 'DWAW', 'DWCR', 'DWEQ', 'DWFI', 'DWLD', 'DWMC', 'DWPP', 'DWSH', 'DWSN', 'DWUS', 'DXCM', 'DXGE', 'DXJS', 'DXLG', 'DXPE', 'DXYN', 'DYAI', 'DYNT', 'DZSI', 'EA', 'EARS', 'EAST', 'EBAY', 'EBAYL', 'EBIX', 'EBIZ', 'EBMT', 'EBON', 'EBSB', 'EBTC', 'ECHO', 'ECOL', 'ECOLW', 'ECOR', 'ECOW', 'ECPG', 'EDAP', 'EDIT', 'EDNT', 'EDRY', 'EDSA', 'EDUC', 'EDUT', 'EEFT', 'EEMA', 'EFAS', 'EFOI', 'EFSC', 'EGAN', 'EGBN', 'EGLE', 'EGOV', 'EGRX', 'EH', 'EHTH', 'EIDX', 'EIGI', 'EIGR', 'EKSO', 'ELOX', 'ELSE', 'ELTK', 'EMB', 'EMCB', 'EMCF', 'EMIF', 'EMKR', 'EML', 'EMXC', 'ENDP', 'ENG', 'ENLV', 'ENOB', 'ENPH', 'ENSG', 'ENT', 'ENTA', 'ENTG', 'ENTX', 'ENTXW', 'ENZL', 'EOLS', 'EPAY', 'EPIX', 'EPSN', 'EPZM', 'EQ', 'EQBK', 'EQIX', 'EQRR', 'ERI', 'ERIC', 'ERIE', 'ERII', 'ERYP', 'ESBK', 'ESCA', 'ESEA', 'ESGD', 'ESGE', 'ESGR', 'ESGRO', 'ESGRP', 'ESGU', 'ESLT', 'ESPO', 'ESPR', 'ESQ', 'ESSA', 'ESSC', 'ESSCR', 'ESSCU', 'ESSCW', 'ESTA', 'ESXB', 'ETFC', 'ETNB', 'ETON', 'ETSY', 'ETTX', 'EUFN', 'EVBG', 'EVER', 'EVFM', 'EVGBC', 'EVGN', 'EVK', 'EVLMC', 'EVLO', 'EVOK', 'EVOL', 'EVOP', 'EVSI', 'EVSIW', 'EVSTC', 'EWBC', 'EWJE', 'EWJV', 'EWZS', 'EXAS', 'EXC', 'EXEL', 'EXFO', 'EXLS', 'EXPC', 'EXPCU', 'EXPCW', 'EXPD', 'EXPE', 'EXPI', 'EXPO', 'EXTR', 'EYE', 'EYEG', 'EYEGW', 'EYEN', 'EYES', 'EYESW', 'EYPT', 'EZPW', 'FAAR', 'FAB', 'FAD', 'FALN', 'FAMI', 'FANG', 'FANH', 'FARM', 'FARO', 'FAST', 'FAT', 'FATBP', 'FATBW', 'FATE', 'FB', 'FBIO', 'FBIOP', 'FBIZ', 'FBMS', 'FBNC', 'FBRX', 'FBSS', 'FBZ', 'FCA', 'FCAL', 'FCAN', 'FCAP', 'FCBC', 'FCBP', 'FCCO', 'FCCY', 'FCEF', 'FCEL', 'FCFS', 'FCNCA', 'FCNCP', 'FCVT', 'FDBC', 'FDIV', 'FDNI', 'FDT', 'FDTS', 'FDUS', 'FDUSG', 'FDUSL', 'FDUSZ', 'FEIM', 'FELE', 'FEM', 'FEMB', 'FEMS', 'FENC', 'FEP', 'FEUZ', 'FEX', 'FEYE', 'FFBC', 'FFBW', 'FFHL', 'FFIC', 'FFIN', 'FFIV', 'FFNW', 'FFWM', 'FGBI', 'FGEN', 'FGM', 'FHB', 'FHK', 'FIBK', 'FID', 'FINX', 'FISI', 'FISV', 'FITB', 'FITBI', 'FITBO', 'FITBP', 'FIVE', 'FIVN', 'FIXD', 'FIXX', 'FIZZ', 'FJP', 'FKO', 'FKU', 'FLDM', 'FLEX', 'FLGT', 'FLIC', 'FLIR', 'FLL', 'FLMN', 'FLMNW', 'FLN', 'FLNT', 'FLWS', 'FLXN', 'FLXS', 'FMAO', 'FMB', 'FMBH', 'FMBI', 'FMBIO', 'FMBIP', 'FMCI', 'FMCIU', 'FMCIW', 'FMHI', 'FMK', 'FMNB', 'FMTX', 'FNCB', 'FNHC', 'FNJN', 'FNK', 'FNKO', 'FNLC', 'FNWB', 'FNX', 'FNY', 'FOCS', 'FOLD', 'FONR', 'FORD', 'FORK', 'FORM', 'FORR', 'FORTY', 'FOSL', 'FOX', 'FOXA', 'FOXF', 'FPA', 'FPAY', 'FPRX', 'FPXE', 'FPXI', 'FRAF', 'FRAN', 'FRBA', 'FRBK', 'FREE', 'FREEW', 'FREQ', 'FRG', 'FRGI', 'FRHC', 'FRME', 'FRPH', 'FRPT', 'FRSX', 'FRTA', 'FSBW', 'FSCT', 'FSEA', 'FSFG', 'FSLR', 'FSRV', 'FSRVU', 'FSRVW', 'FSTR', 'FSV', 'FSZ', 'FTA', 'FTAC', 'FTACU', 'FTACW', 'FTAG', 'FTC', 'FTCS', 'FTDR', 'FTEK', 'FTFT', 'FTGC', 'FTHI', 'FTLB', 'FTNT', 'FTRI', 'FTSL', 'FTSM', 'FTXD', 'FTXG', 'FTXH', 'FTXL', 'FTXN', 'FTXO', 'FTXR', 'FULC', 'FULT', 'FUNC', 'FUND', 'FUSB', 'FUSN', 'FUTU', 'FUV', 'FV', 'FVC', 'FVCB', 'FVE', 'FWONA', 'FWONK', 'FWP', 'FWRD', 'FXNC', 'FYC', 'FYT', 'FYX', 'GABC', 'GAIA', 'GAIN', 'GAINL', 'GAINM', 'GALT', 'GAN', 'GARS', 'GASS', 'GBCI', 'GBDC', 'GBIO', 'GBLI', 'GBLIL', 'GBLIZ', 'GBT', 'GCBC', 'GDEN', 'GDS', 'GDYN', 'GDYNW', 'GEC', 'GECC', 'GECCL', 'GECCM', 'GECCN', 'GENC', 'GENE', 'GENY', 'GEOS', 'GERN', 'GEVO', 'GFED', 'GFN', 'GFNCP', 'GFNSL', 'GGAL', 'GH', 'GHIV', 'GHIVU', 'GHIVW', 'GHSI', 'GIFI', 'GIGE', 'GIGM', 'GIII', 'GILD', 'GILT', 'GLAD', 'GLADD', 'GLADL', 'GLBS', 'GLBZ', 'GLDD', 'GLDI', 'GLG', 'GLIBA', 'GLIBP', 'GLMD', 'GLNG', 'GLPG', 'GLPI', 'GLRE', 'GLUU', 'GLYC', 'GMAB', 'GMBL', 'GMBLW', 'GMDA', 'GMHI', 'GMHIU', 'GMHIW', 'GMLP', 'GMLPP', 'GNCA', 'GNFT', 'GNLN', 'GNMA', 'GNMK', 'GNOM', 'GNPX', 'GNRS', 'GNRSU', 'GNRSW', 'GNSS', 'GNTX', 'GNTY', 'GNUS', 'GO', 'GOCO', 'GOGL', 'GOGO', 'GOOD', 'GOODM', 'GOODN', 'GOOG', 'GOOGL', 'GOSS', 'GPOR', 'GPP', 'GPRE', 'GPRO', 'GRBK', 'GRFS', 'GRID', 'GRIF', 'GRIL', 'GRIN', 'GRMN', 'GRNQ', 'GRNV', 'GRNVR', 'GRNVU', 'GRNVW', 'GROW', 'GRPN', 'GRTS', 'GRTX', 'GRVY', 'GRWG', 'GSBC', 'GSHD', 'GSIT', 'GSKY', 'GSM', 'GSMG', 'GSMGW', 'GSUM', 'GT', 'GTEC', 'GTH', 'GTHX', 'GTIM', 'GTLS', 'GTYH', 'GURE', 'GVP', 'GWGH', 'GWPH', 'GWRS', 'GXGX', 'GXGXU', 'GXGXW', 'GXTG', 'GYRO', 'HA', 'HAFC', 'HAIN', 'HALL', 'HALO', 'HAPP', 'HARP', 'HAS', 'HAYN', 'HBAN', 'HBANN', 'HBANO', 'HBCP', 'HBIO', 'HBMD', 'HBNC', 'HBP', 'HBT', 'HCAC', 'HCACU', 'HCACW', 'HCAP', 'HCAPZ', 'HCAT', 'HCCH', 'HCCHR', 'HCCHU', 'HCCHW', 'HCCI', 'HCCO', 'HCCOU', 'HCCOW', 'HCKT', 'HCM', 'HCSG', 'HDS', 'HDSN', 'HEAR', 'HEBT', 'HECCU', 'HEES', 'HELE', 'HEPA', 'HERD', 'HERO', 'HEWG', 'HFBL', 'HFFG', 'HFWA', 'HGSH', 'HHR', 'HHT', 'HIBB', 'HIFS', 'HIHO', 'HIMX', 'HJLI', 'HJLIW', 'HLAL', 'HLG', 'HLIO', 'HLIT', 'HLNE', 'HMHC', 'HMNF', 'HMST', 'HMSY', 'HMTV', 'HNDL', 'HNNA', 'HNRG', 'HOFT', 'HOFV', 'HOFVW', 'HOLI', 'HOLX', 'HOMB', 'HONE', 'HOOK', 'HOPE', 'HOTH', 'HOVNP', 'HQI', 'HQY', 'HROW', 'HRTX', 'HRZN', 'HSDT', 'HSIC', 'HSII', 'HSKA', 'HSON', 'HSTM', 'HSTO', 'HTBI', 'HTBK', 'HTBX', 'HTGM', 'HTHT', 'HTIA', 'HTLD', 'HTLF', 'HTLFP', 'HUBG', 'HUGE', 'HUIZ', 'HURC', 'HURN', 'HUSN', 'HVBC', 'HWBK', 'HWC', 'HWCC', 'HWCPL', 'HWCPZ', 'HWKN', 'HX', 'HYAC', 'HYACU', 'HYACW', 'HYLS', 'HYMC', 'HYMCW', 'HYRE', 'HYXE', 'HYZD', 'HZNP', 'IAC', 'IART', 'IBB', 'IBCP', 'IBKR', 'IBOC', 'IBTA', 'IBTB', 'IBTD', 'IBTE', 'IBTF', 'IBTG', 'IBTH', 'IBTI', 'IBTJ', 'IBTK', 'IBTX', 'IBUY', 'ICAD', 'ICBK', 'ICCC', 'ICCH', 'ICFI', 'ICHR', 'ICLK', 'ICLN', 'ICLR', 'ICMB', 'ICON', 'ICPT', 'ICUI', 'IDCC', 'IDEX', 'IDLB', 'IDN', 'IDRA', 'IDXG', 'IDXX', 'IDYA', 'IEA', 'IEAWW', 'IEC', 'IEF', 'IEI', 'IEP', 'IESC', 'IEUS', 'IFEU', 'IFGL', 'IFMK', 'IFRX', 'IFV', 'IGF', 'IGIB', 'IGIC', 'IGICW', 'IGMS', 'IGOV', 'IGSB', 'IHRT', 'III', 'IIIN', 'IIIV', 'IIN', 'IIVI', 'IJT', 'IKNX', 'ILMN', 'ILPT', 'IMAB', 'IMAC', 'IMACW', 'IMBI', 'IMGN', 'IMKTA', 'IMMP', 'IMMR', 'IMMU', 'IMOS', 'IMRA', 'IMRN', 'IMRNW', 'IMTE', 'IMTX', 'IMTXW', 'IMUX', 'IMV', 'IMVT', 'IMXI', 'INBK', 'INBKL', 'INBKZ', 'INCY', 'INDB', 'INDY', 'INFI', 'INFN', 'INFR', 'INGN', 'INMB', 'INMD', 'INO', 'INOD', 'INOV', 'INPX', 'INSE', 'INSG', 'INSM', 'INSU', 'INSUU', 'INSUW', 'INTC', 'INTG', 'INTU', 'INVA', 'INVE', 'INWK', 'IONS', 'IOSP', 'IOVA', 'IPAR', 'IPDN', 'IPGP', 'IPHA', 'IPKW', 'IPLDP', 'IPWR', 'IQ', 'IRBT', 'IRCP', 'IRDM', 'IRIX', 'IRMD', 'IROQ', 'IRTC', 'IRWD', 'ISBC', 'ISDS', 'ISDX', 'ISEE', 'ISEM', 'ISHG', 'ISIG', 'ISNS', 'ISRG', 'ISSC', 'ISTB', 'ISTR', 'ITCI', 'ITI', 'ITIC', 'ITMR', 'ITRI', 'ITRM', 'ITRN', 'IUS', 'IUSB', 'IUSG', 'IUSS', 'IUSV', 'IVA', 'IVAC', 'IXUS', 'IZEA', 'JACK', 'JAGX', 'JAKK', 'JAN', 'JAZZ', 'JBHT', 'JBLU', 'JBSS', 'JCOM', 'JCS', 'JCTCF', 'JD', 'JFIN', 'JFK', 'JFKKR', 'JFKKU', 'JFKKW', 'JFU', 'JG', 'JJSF', 'JKHY', 'JKI', 'JMPNL', 'JMPNZ', 'JNCE', 'JOBS', 'JOUT', 'JRJC', 'JRSH', 'JRVR', 'JSM', 'JSMD', 'JSML', 'JVA', 'JYNT', 'KALA', 'KALU', 'KALV', 'KBAL', 'KBLM', 'KBLMR', 'KBLMU', 'KBLMW', 'KBSF', 'KBWB', 'KBWD', 'KBWP', 'KBWR', 'KBWY', 'KC', 'KCAPL', 'KE', 'KELYA', 'KELYB', 'KEQU', 'KERN', 'KERNW', 'KFFB', 'KFRC', 'KGJI', 'KHC', 'KIDS', 'KIN', 'KINS', 'KIRK', 'KLAC', 'KLDO', 'KLIC', 'KLXE', 'KMDA', 'KNDI', 'KNSA', 'KNSL', 'KOD', 'KOPN', 'KOSS', 'KPTI', 'KRKR', 'KRMA', 'KRMD', 'KRNT', 'KRNY', 'KROS', 'KRTX', 'KRUS', 'KRYS', 'KTCC', 'KTOS', 'KTOV', 'KTOVW', 'KURA', 'KVHI', 'KXIN', 'KZIA', 'KZR', 'LACQ', 'LACQU', 'LACQW', 'LAKE', 'LAMR', 'LANC', 'LAND', 'LANDP', 'LARK', 'LASR', 'LATN', 'LATNU', 'LATNW', 'LAUR', 'LAWS', 'LAZY', 'LBAI', 'LBC', 'LBRDA', 'LBRDK', 'LBTYA', 'LBTYB', 'LBTYK', 'LCA', 'LCAHU', 'LCAHW', 'LCNB', 'LCUT', 'LDEM', 'LDSF', 'LE', 'LECO', 'LEDS', 'LEGH', 'LEGN', 'LEGR', 'LEVL', 'LFAC', 'LFACU', 'LFACW', 'LFUS', 'LFVN', 'LGHL', 'LGHLW', 'LGIH', 'LGND', 'LHCG', 'LIFE', 'LILA', 'LILAK', 'LINC', 'LIND', 'LIQT', 'LITE', 'LIVE', 'LIVK', 'LIVKU', 'LIVKW', 'LIVN', 'LIVX', 'LIZI', 'LJPC', 'LKCO', 'LKFN', 'LKQ', 'LLIT', 'LLNW', 'LMAT', 'LMB', 'LMBS', 'LMFA', 'LMFAW', 'LMNL', 'LMNR', 'LMNX', 'LMPX', 'LMRK', 'LMRKN', 'LMRKO', 'LMRKP', 'LMST', 'LNDC', 'LNGR', 'LNT', 'LNTH', 'LOAC', 'LOACR', 'LOACU', 'LOACW', 'LOAN', 'LOB', 'LOCO', 'LOGC', 'LOGI', 'LOGM', 'LONE', 'LOOP', 'LOPE', 'LORL', 'LOVE', 'LPCN', 'LPLA', 'LPRO', 'LPSN', 'LPTH', 'LPTX', 'LQDA', 'LQDT', 'LRCX', 'LRGE', 'LRMR', 'LSAC', 'LSACU', 'LSACW', 'LSBK', 'LSCC', 'LSTR', 'LSXMA', 'LSXMB', 'LSXMK', 'LTBR', 'LTRN', 'LTRPA', 'LTRPB', 'LTRX', 'LULU', 'LUMO', 'LUNA', 'LVGO', 'LVHD', 'LWAY', 'LX', 'LXRX', 'LYFT', 'LYL', 'LYRA', 'LYTS', 'MACK', 'MAGS', 'MANH', 'MANT', 'MAR', 'MARA', 'MARK', 'MARPS', 'MASI', 'MAT', 'MATW', 'MAYS', 'MBB', 'MBCN', 'MBII', 'MBIN', 'MBINO', 'MBINP', 'MBIO', 'MBNKP', 'MBOT', 'MBRX', 'MBSD', 'MBUU', 'MBWM', 'MCACU', 'MCBC', 'MCBS', 'MCEF', 'MCEP', 'MCFT', 'MCHI', 'MCHP', 'MCHX', 'MCMJ', 'MCMJW', 'MCRB', 'MCRI', 'MDB', 'MDCA', 'MDGL', 'MDGS', 'MDGSW', 'MDIA', 'MDIV', 'MDJH', 'MDLZ', 'MDRR', 'MDRRP', 'MDRX', 'MDWD', 'MEDP', 'MEDS', 'MEET', 'MEIP', 'MELI', 'MEOH', 'MERC', 'MESA', 'MESO', 'METC', 'METX', 'METXW', 'MFH', 'MFIN', 'MFINL', 'MFNC', 'MGEE', 'MGEN', 'MGI', 'MGIC', 'MGLN', 'MGNI', 'MGNX', 'MGPI', 'MGRC', 'MGTA', 'MGTX', 'MGYR', 'MHLD', 'MICT', 'MIDD', 'MIK', 'MILN', 'MIME', 'MIND', 'MINDP', 'MIRM', 'MIST', 'MITK', 'MITO', 'MJCO', 'MKD', 'MKGI', 'MKSI', 'MKTX', 'MLAB', 'MLACU', 'MLCO', 'MLHR', 'MLND', 'MLVF', 'MMAC', 'MMLP', 'MMSI', 'MMYT', 'MNCL', 'MNCLU', 'MNCLW', 'MNDO', 'MNKD', 'MNLO', 'MNOV', 'MNPR', 'MNRO', 'MNSB', 'MNST', 'MNTA', 'MNTX', 'MOBL', 'MOFG', 'MOGO', 'MOHO', 'MOMO', 'MOR', 'MORF', 'MORN', 'MOSY', 'MOTS', 'MOXC', 'MPAA', 'MPB', 'MPWR', 'MRAM', 'MRBK', 'MRCC', 'MRCCL', 'MRCY', 'MREO', 'MRIN', 'MRKR', 'MRLN', 'MRNA', 'MRNS', 'MRSN', 'MRTN', 'MRTX', 'MRUS', 'MRVL', 'MSBI', 'MSEX', 'MSFT', 'MSON', 'MSTR', 'MSVB', 'MTBC', 'MTBCP', 'MTC', 'MTCH', 'MTEM', 'MTEX', 'MTLS', 'MTP', 'MTRX', 'MTSC', 'MTSI', 'MTSL', 'MU', 'MVBF', 'MVIS', 'MWK', 'MXIM', 'MYFW', 'MYGN', 'MYL', 'MYOK', 'MYOS', 'MYRG', 'MYSZ', 'MYT', 'NAII', 'NAKD', 'NAOV', 'NARI', 'NATH', 'NATI', 'NATR', 'NAVI', 'NBAC', 'NBACR', 'NBACU', 'NBACW', 'NBEV', 'NBIX', 'NBL', 'NBLX', 'NBN', 'NBRV', 'NBSE', 'NBTB', 'NCBS', 'NCMI', 'NCNA', 'NCNO', 'NCSM', 'NCTY', 'NDAQ', 'NDLS', 'NDRA', 'NDRAW', 'NDSN', 'NEO', 'NEOG', 'NEON', 'NEOS', 'NEPH', 'NEPT', 'NERV', 'NESR', 'NESRW', 'NETE', 'NEWA', 'NEWT', 'NEWTI', 'NEWTL', 'NEXT', 'NFBK', 'NFE', 'NFIN', 'NFINU', 'NFINW', 'NFLX', 'NFTY', 'NGHC', 'NGHCN', 'NGHCO', 'NGHCP', 'NGHCZ', 'NGM', 'NH', 'NHLD', 'NHLDW', 'NHTC', 'NICE', 'NICK', 'NIU', 'NK', 'NKLA', 'NKLAW', 'NKSH', 'NKTR', 'NKTX', 'NLOK', 'NLTX', 'NMCI', 'NMIH', 'NMRD', 'NMRK', 'NMTR', 'NNBR', 'NNDM', 'NODK', 'NOVN', 'NOVS', 'NOVSU', 'NOVSW', 'NOVT', 'NPA', 'NPAUU', 'NPAWW', 'NRBO', 'NRC', 'NRIM', 'NSEC', 'NSIT', 'NSSC', 'NSTG', 'NSYS', 'NTAP', 'NTCT', 'NTEC', 'NTES', 'NTGR', 'NTIC', 'NTLA', 'NTNX', 'NTRA', 'NTRP', 'NTRS', 'NTRSO', 'NTUS', 'NTWK', 'NUAN', 'NURO', 'NUVA', 'NUZE', 'NVAX', 'NVCN', 'NVCR', 'NVDA', 'NVEC', 'NVEE', 'NVFY', 'NVIV', 'NVMI', 'NVUS', 'NWBI', 'NWFL', 'NWGI', 'NWL', 'NWLI', 'NWPX', 'NWS', 'NWSA', 'NXGN', 'NXPI', 'NXST', 'NXTC', 'NXTD', 'NXTG', 'NYMT', 'NYMTM', 'NYMTN', 'NYMTO', 'NYMTP', 'NYMX', 'OAS', 'OBAS', 'OBCI', 'OBLN', 'OBNK', 'OBSV', 'OCC', 'OCCI', 'OCCIP', 'OCFC', 'OCFCP', 'OCGN', 'OCSI', 'OCSL', 'OCUL', 'ODFL', 'ODP', 'ODT', 'OEG', 'OESX', 'OFED', 'OFIX', 'OFLX', 'OFS', 'OFSSI', 'OFSSL', 'OFSSZ', 'OGI', 'OIIM', 'OKTA', 'OLD', 'OLED', 'OLLI', 'OMAB', 'OMCL', 'OMER', 'OMEX', 'OMP', 'ON', 'ONB', 'ONCS', 'ONCT', 'ONCY', 'ONEM', 'ONEQ', 'ONEW', 'ONTX', 'ONTXW', 'ONVO', 'OPBK', 'OPCH', 'OPES', 'OPESU', 'OPESW', 'OPGN', 'OPHC', 'OPI', 'OPINI', 'OPINL', 'OPK', 'OPNT', 'OPOF', 'OPRA', 'OPRT', 'OPRX', 'OPTN', 'OPTT', 'ORBC', 'ORGO', 'ORGS', 'ORIC', 'ORLY', 'ORMP', 'ORRF', 'ORSN', 'ORSNR', 'ORSNU', 'ORSNW', 'ORTX', 'OSBC', 'OSIS', 'OSMT', 'OSN', 'OSPN', 'OSS', 'OSTK', 'OSUR', 'OSW', 'OTEL', 'OTEX', 'OTIC', 'OTLK', 'OTLKW', 'OTRK', 'OTTR', 'OVBC', 'OVID', 'OVLY', 'OXBR', 'OXBRW', 'OXFD', 'OXLC', 'OXLCM', 'OXLCO', 'OXLCP', 'OXSQ', 'OXSQL', 'OXSQZ', 'OYST', 'OZK', 'PAAS', 'PACB', 'PACQ', 'PACQU', 'PACQW', 'PACW', 'PAE', 'PAEWW', 'PAHC', 'PAND', 'PANL', 'PASG', 'PATI', 'PATK', 'PAVM', 'PAVMW', 'PAVMZ', 'PAYS', 'PAYX', 'PBCT', 'PBCTP', 'PBFS', 'PBHC', 'PBIP', 'PBPB', 'PBTS', 'PBYI', 'PCAR', 'PCB', 'PCH', 'PCOM', 'PCRX', 'PCSB', 'PCTI', 'PCTY', 'PCVX', 'PCYG', 'PCYO', 'PDBC', 'PDCE', 'PDCO', 'PDD', 'PDEV', 'PDEX', 'PDFS', 'PDLB', 'PDLI', 'PDP', 'PDSB', 'PEBK', 'PEBO', 'PECK', 'PEGA', 'PEIX', 'PENN', 'PEP', 'PERI', 'PESI', 'PETQ', 'PETS', 'PETZ', 'PEY', 'PEZ', 'PFBC', 'PFBI', 'PFC', 'PFF', 'PFG', 'PFHD', 'PFI', 'PFIE', 'PFIN', 'PFIS', 'PFLT', 'PFM', 'PFMT', 'PFPT', 'PFSW', 'PGC', 'PGEN', 'PGJ', 'PGNY', 'PHAS', 'PHAT', 'PHCF', 'PHIO', 'PHIOW', 'PHO', 'PHUN', 'PHUNW', 'PI', 'PICO', 'PID', 'PIE', 'PIH', 'PIHPP', 'PINC', 'PIO', 'PIRS', 'PIXY', 'PIZ', 'PKBK', 'PKOH', 'PKW', 'PLAB', 'PLAY', 'PLBC', 'PLC', 'PLCE', 'PLIN', 'PLL', 'PLMR', 'PLPC', 'PLRX', 'PLSE', 'PLUG', 'PLUS', 'PLW', 'PLXP', 'PLXS', 'PLYA', 'PMBC', 'PMD', 'PME', 'PMOM', 'PNBK', 'PNFP', 'PNFPP', 'PNNT', 'PNNTG', 'PNQI', 'PNRG', 'PNTG', 'POAI', 'PODD', 'POLA', 'POOL', 'POTX', 'POWI', 'POWL', 'PPBI', 'PPC', 'PPD', 'PPH', 'PPHI', 'PPIH', 'PPSI', 'PRAA', 'PRAH', 'PRCP', 'PRDO', 'PRFT', 'PRFZ', 'PRGS', 'PRGX', 'PRIM', 'PRN', 'PRNB', 'PROF', 'PROG', 'PROV', 'PRPH', 'PRPL', 'PRPO', 'PRQR', 'PRSC', 'PRTA', 'PRTH', 'PRTK', 'PRTS', 'PRVB', 'PRVL', 'PS', 'PSC', 'PSCC', 'PSCD', 'PSCE', 'PSCF', 'PSCH', 'PSCI', 'PSCM', 'PSCT', 'PSCU', 'PSEC', 'PSET', 'PSHG', 'PSL', 'PSM', 'PSMT', 'PSNL', 'PSTI', 'PSTV', 'PSTX', 'PT', 'PTAC', 'PTACU', 'PTACW', 'PTC', 'PTCT', 'PTE', 'PTEN', 'PTF', 'PTGX', 'PTH', 'PTI', 'PTMN', 'PTNR', 'PTON', 'PTSI', 'PTVCA', 'PTVCB', 'PUI', 'PULM', 'PUYI', 'PVAC', 'PVAL', 'PVBC', 'PWFL', 'PWOD', 'PXI', 'PXLW', 'PXS', 'PY', 'PYPD', 'PYPL', 'PYZ', 'PZZA', 'QABA', 'QADA', 'QADB', 'QAT', 'QCLN', 'QCOM', 'QCRH', 'QDEL', 'QFIN', 'QH', 'QIWI', 'QK', 'QLGN', 'QLYS', 'QMCO', 'QNST', 'QQEW', 'QQQ', 'QQQX', 'QQXT', 'QRHC', 'QRTEA', 'QRTEB', 'QRVO', 'QTEC', 'QTNT', 'QTRX', 'QTT', 'QUIK', 'QUMU', 'QURE', 'QYLD', 'RADA', 'RAIL', 'RAND', 'RAPT', 'RARE', 'RAVE', 'RAVN', 'RBB', 'RBBN', 'RBCAA', 'RBCN', 'RBKB', 'RBNC', 'RCEL', 'RCII', 'RCKT', 'RCKY', 'RCM', 'RCMT', 'RCON', 'RDCM', 'RDFN', 'RDHL', 'RDI', 'RDIB', 'RDNT', 'RDUS', 'RDVT', 'RDVY', 'RDWR', 'REAL', 'REDU', 'REED', 'REFR', 'REG', 'REGI', 'REGN', 'REKR', 'RELL', 'RELV', 'REPH', 'REPL', 'RESN', 'RETA', 'RETO', 'REXN', 'REYN', 'RFAP', 'RFDI', 'RFEM', 'RFEU', 'RFIL', 'RGCO', 'RGEN', 'RGLD', 'RGLS', 'RGNX', 'RGP', 'RIBT', 'RICK', 'RIGL', 'RILY', 'RILYG', 'RILYH', 'RILYI', 'RILYM', 'RILYN', 'RILYO', 'RILYP', 'RILYZ', 'RING', 'RIOT', 'RIVE', 'RKDA', 'RLAY', 'RLMD', 'RMBI', 'RMBL', 'RMBS', 'RMCF', 'RMNI', 'RMR', 'RMTI', 'RNA', 'RNDB', 'RNDM', 'RNDV', 'RNEM', 'RNET', 'RNLC', 'RNLX', 'RNMC', 'RNSC', 'RNST', 'RNWK', 'ROAD', 'ROBT', 'ROCH', 'ROCHU', 'ROCHW', 'ROCK', 'ROIC', 'ROKU', 'ROLL', 'ROSE', 'ROSEU', 'ROSEW', 'ROST', 'RP', 'RPAY', 'RPD', 'RPRX', 'RPTX', 'RRBI', 'RRGB', 'RRR', 'RSSS', 'RTH', 'RTIX', 'RTLR', 'RTRX', 'RUBY', 'RUHN', 'RUN', 'RUSHA', 'RUSHB', 'RUTH', 'RVMD', 'RVNC', 'RVSB', 'RWLK', 'RYAAY', 'RYTM', 'SABR', 'SAFM', 'SAFT', 'SAGE', 'SAIA', 'SAL', 'SALM', 'SAMA', 'SAMAU', 'SAMAW', 'SAMG', 'SANM', 'SANW', 'SAQN', 'SAQNU', 'SAQNW', 'SASR', 'SATS', 'SAVA', 'SBAC', 'SBBP', 'SBBX', 'SBCF', 'SBFG', 'SBGI', 'SBLK', 'SBLKZ', 'SBNY', 'SBPH', 'SBRA', 'SBSI', 'SBT', 'SBUX', 'SCHL', 'SCHN', 'SCKT', 'SCON', 'SCOR', 'SCPH', 'SCPL', 'SCSC', 'SCVL', 'SCWX', 'SCYX', 'SCZ', 'SDC', 'SDG', 'SDGR', 'SDVY', 'SEAC', 'SECO', 'SEDG', 'SEED', 'SEEL', 'SEIC', 'SELB', 'SELF', 'SENEA', 'SENEB', 'SESN', 'SFBC', 'SFBS', 'SFET', 'SFIX', 'SFM', 'SFNC', 'SFST', 'SG', 'SGA', 'SGBX', 'SGC', 'SGEN', 'SGH', 'SGLB', 'SGLBW', 'SGMA', 'SGMO', 'SGMS', 'SGOC', 'SGRP', 'SGRY', 'SHBI', 'SHEN', 'SHIP', 'SHIPW', 'SHIPZ', 'SHLO', 'SHOO', 'SHSP', 'SHV', 'SHY', 'SHYF', 'SIBN', 'SIC', 'SIEB', 'SIEN', 'SIFY', 'SIGA', 'SIGI', 'SILC', 'SILK', 'SIMO', 'SINA', 'SINO', 'SINT', 'SIRI', 'SITM', 'SIVB', 'SIVBP', 'SJ', 'SKOR', 'SKYS', 'SKYW', 'SKYY', 'SLAB', 'SLCT', 'SLDB', 'SLGG', 'SLGL', 'SLGN', 'SLM', 'SLMBP', 'SLNO', 'SLP', 'SLQD', 'SLRC', 'SLRX', 'SLS', 'SLVO', 'SMBC', 'SMBK', 'SMCI', 'SMCP', 'SMED', 'SMH', 'SMIT', 'SMMC', 'SMMCU', 'SMMCW', 'SMMF', 'SMMT', 'SMPL', 'SMRT', 'SMSI', 'SMTC', 'SMTX', 'SNBR', 'SNCA', 'SNCR', 'SND', 'SNDE', 'SNDL', 'SNDX', 'SNES', 'SNEX', 'SNFCA', 'SNGX', 'SNGXW', 'SNLN', 'SNOA', 'SNPS', 'SNSR', 'SNSS', 'SNUG', 'SNY', 'SOCL', 'SOHO', 'SOHOB', 'SOHON', 'SOHOO', 'SOHU', 'SOLO', 'SOLOW', 'SOLY', 'SONA', 'SONM', 'SONN', 'SONO', 'SOXX', 'SP', 'SPCB', 'SPFI', 'SPI', 'SPKE', 'SPKEP', 'SPLK', 'SPNE', 'SPNS', 'SPOK', 'SPPI', 'SPQQ', 'SPRO', 'SPRT', 'SPSC', 'SPT', 'SPTN', 'SPWH', 'SPWR', 'SQBG', 'SQLV', 'SQQQ', 'SRAC', 'SRACU', 'SRACW', 'SRAX', 'SRCE', 'SRCL', 'SRDX', 'SRET', 'SREV', 'SRNE', 'SRPT', 'SRRA', 'SRRK', 'SRTS', 'SSB', 'SSBI', 'SSKN', 'SSNC', 'SSNT', 'SSP', 'SSPK', 'SSPKU', 'SSPKW', 'SSRM', 'SSSS', 'SSTI', 'SSYS', 'STAA', 'STAF', 'STAY', 'STBA', 'STCN', 'STFC', 'STIM', 'STKL', 'STKS', 'STLD', 'STMP', 'STND', 'STNE', 'STOK', 'STRA', 'STRL', 'STRM', 'STRO', 'STRS', 'STRT', 'STSA', 'STX', 'STXB', 'SUMR', 'SUNS', 'SUNW', 'SUPN', 'SURF', 'SUSB', 'SUSC', 'SUSL', 'SVA', 'SVBI', 'SVC', 'SVMK', 'SVRA', 'SVVC', 'SWAV', 'SWBI', 'SWIR', 'SWKH', 'SWKS', 'SWTX', 'SXTC', 'SY', 'SYBT', 'SYBX', 'SYKE', 'SYNA', 'SYNC', 'SYNH', 'SYNL', 'SYPR', 'SYRS', 'TA', 'TACO', 'TACT', 'TAIT', 'TANH', 'TANNI', 'TANNL', 'TANNZ', 'TAOP', 'TARA', 'TAST', 'TATT', 'TAYD', 'TBBK', 'TBIO', 'TBK', 'TBKCP', 'TBLT', 'TBLTW', 'TBNK', 'TBPH', 'TC', 'TCBI', 'TCBIL', 'TCBIP', 'TCBK', 'TCCO', 'TCDA', 'TCF', 'TCFC', 'TCFCP', 'TCMD', 'TCOM', 'TCON', 'TCPC', 'TCRD', 'TCRR', 'TCX', 'TDAC', 'TDACU', 'TDACW', 'TDIV', 'TEAM', 'TECH', 'TECTP', 'TEDU', 'TELA', 'TELL', 'TENB', 'TENX', 'TER', 'TERP', 'TESS', 'TEUM', 'TFFP', 'TFSL', 'TGA', 'TGLS', 'TGTX', 'TH', 'THBR', 'THBRU', 'THBRW', 'THCA', 'THCAU', 'THCAW', 'THCB', 'THCBU', 'THCBW', 'THFF', 'THMO', 'THRM', 'THTX', 'THWWW', 'TIG', 'TIGO', 'TIGR', 'TILE', 'TIPT', 'TITN', 'TLC', 'TLF', 'TLGT', 'TLND', 'TLRY', 'TLSA', 'TLT', 'TMDI', 'TMDX', 'TMUS', 'TMUSR', 'TNAV', 'TNDM', 'TNXP', 'TOPS', 'TORC', 'TOTA', 'TOTAR', 'TOTAU', 'TOTAW', 'TOUR', 'TOWN', 'TPCO', 'TPIC', 'TPTX', 'TQQQ', 'TRCH', 'TREE', 'TRHC', 'TRIB', 'TRIL', 'TRIP', 'TRMB', 'TRMD', 'TRMK', 'TRMT', 'TRNS', 'TROW', 'TRS', 'TRST', 'TRUE', 'TRUP', 'TRVG', 'TRVI', 'TRVN', 'TSBK', 'TSC', 'TSCAP', 'TSCBP', 'TSCO', 'TSEM', 'TSLA', 'TSRI', 'TTD', 'TTEC', 'TTEK', 'TTGT', 'TTMI', 'TTNP', 'TTOO', 'TTPH', 'TTTN', 'TTWO', 'TUR', 'TURN', 'TUSA', 'TUSK', 'TVTY', 'TW', 'TWIN', 'TWMC', 'TWNK', 'TWNKW', 'TWOU', 'TWST', 'TXAC', 'TXG', 'TXMD', 'TXN', 'TXRH', 'TYHT', 'TYME', 'TZAC', 'TZACU', 'TZACW', 'TZOO', 'UAE', 'UAL', 'UBCP', 'UBFO', 'UBOH', 'UBSI', 'UBX', 'UCBI', 'UCBIO', 'UCL', 'UCTT', 'UEIC', 'UEPS', 'UFCS', 'UFO', 'UFPI', 'UFPT', 'UG', 'UHAL', 'UIHC', 'ULBI', 'ULH', 'ULTA', 'UMBF', 'UMPQ', 'UMRX', 'UNAM', 'UNB', 'UNIT', 'UNTY', 'UONE', 'UONEK', 'UPLD', 'UPWK', 'URBN', 'URGN', 'UROV', 'USAK', 'USAP', 'USAU', 'USCR', 'USEG', 'USIG', 'USIO', 'USLB', 'USLM', 'USMC', 'USOI', 'USWS', 'USWSW', 'USXF', 'UTHR', 'UTMD', 'UTSI', 'UVSP', 'UXIN', 'VALU', 'VBFC', 'VBIV', 'VBLT', 'VBTX', 'VC', 'VCEL', 'VCIT', 'VCLT', 'VCNX', 'VCSH', 'VCTR', 'VCYT', 'VECO', 'VEON', 'VERB', 'VERBW', 'VERI', 'VERO', 'VERU', 'VERY', 'VETS', 'VFF', 'VG', 'VGIT', 'VGLT', 'VGSH', 'VIAC', 'VIACA', 'VIAV', 'VICR', 'VIE', 'VIGI', 'VIOT', 'VIR', 'VIRC', 'VIRT', 'VISL', 'VIVE', 'VIVO', 'VKTX', 'VKTXW', 'VLGEA', 'VLY', 'VLYPO', 'VLYPP', 'VMBS', 'VMD', 'VNDA', 'VNET', 'VNOM', 'VNQI', 'VOD', 'VONE', 'VONG', 'VONV', 'VOXX', 'VRA', 'VRAY', 'VRCA', 'VREX', 'VRIG', 'VRM', 'VRME', 'VRMEW', 'VRNA', 'VRNS', 'VRNT', 'VRRM', 'VRSK', 'VRSN', 'VRTS', 'VRTU', 'VRTX', 'VSAT', 'VSDA', 'VSEC', 'VSMV', 'VSTM', 'VTC', 'VTGN', 'VTHR', 'VTIP', 'VTNR', 'VTSI', 'VTVT', 'VTWG', 'VTWO', 'VTWV', 'VUZI', 'VVPR', 'VWOB', 'VXRT', 'VXUS', 'VYGR', 'VYMI', 'WABC', 'WAFD', 'WAFU', 'WASH', 'WATT', 'WB', 'WBA', 'WBND', 'WCLD', 'WDAY', 'WDC', 'WDFC', 'WEN', 'WERN', 'WETF', 'WEYS', 'WHF', 'WHFBZ', 'WHLM', 'WHLR', 'WHLRD', 'WHLRP', 'WIFI', 'WILC', 'WIMI', 'WINA', 'WINC', 'WING', 'WINS', 'WINT', 'WIRE', 'WISA', 'WIX', 'WKEY', 'WKHS', 'WLDN', 'WLFC', 'WLTW', 'WMG', 'WMGI', 'WNEB', 'WOOD', 'WORX', 'WPRT', 'WRLD', 'WRTC', 'WSBC', 'WSBF', 'WSC', 'WSFS', 'WSG', 'WSTG', 'WSTL', 'WTBA', 'WTER', 'WTFC', 'WTFCM', 'WTFCP', 'WTRE', 'WTREP', 'WTRH', 'WVE', 'WVFC', 'WVVI', 'WVVIP', 'WW', 'WWD', 'WWR', 'WYNN', 'XAIR', 'XBIO', 'XBIOW', 'XBIT', 'XCUR', 'XEL', 'XELA', 'XELB', 'XENE', 'XENT', 'XERS', 'XFOR', 'XGN', 'XLNX', 'XLRN', 'XNCR', 'XNET', 'XOMA', 'XONE', 'XP', 'XPEL', 'XPER', 'XRAY', 'XSPA', 'XT', 'XTLB', 'YGYI', 'YGYIP', 'YI', 'YIN', 'YJ', 'YLCO', 'YLDE', 'YMAB', 'YNDX', 'YORW', 'YRCW', 'YTEN', 'YTRA', 'YVR', 'YY', 'Z', 'ZAGG', 'ZAZZT', 'ZBRA', 'ZBZZT', 'ZCMD', 'ZCZZT', 'ZEAL', 'ZEUS', 'ZG', 'ZGNX', 'ZGYH', 'ZGYHR', 'ZGYHU', 'ZGYHW', 'ZI', 'ZION', 'ZIONL', 'ZIONN', 'ZIONO', 'ZIONP', 'ZIOP', 'ZIXI', 'ZJZZT', 'ZKIN', 'ZLAB', 'ZM', 'ZN', 'ZNGA', 'ZNTL', 'ZNWAA', 'ZS', 'ZSAN', 'ZUMZ', 'ZVO', 'ZVZZC', 'ZVZZT', 'ZWZZT', 'ZXYZ.A', 'ZXZZT', 'ZYNE', 'ZYXI']\n"
     ]
    }
   ],
   "source": [
    "dow = si.tickers_nasdaq()\n",
    "print(dow)"
   ]
  },
  {
   "cell_type": "code",
   "execution_count": 22,
   "metadata": {},
   "outputs": [
    {
     "name": "stdout",
     "output_type": "stream",
     "text": [
      "['A', 'AAL', 'AAP', 'AAPL', 'ABBV', 'ABC', 'ABMD', 'ABT', 'ACN', 'ADBE', 'ADI', 'ADM', 'ADP', 'ADSK', 'AEE', 'AEP', 'AES', 'AFL', 'AIG', 'AIV', 'AIZ', 'AJG', 'AKAM', 'ALB', 'ALGN', 'ALK', 'ALL', 'ALLE', 'ALXN', 'AMAT', 'AMCR', 'AMD', 'AME', 'AMGN', 'AMP', 'AMT', 'AMZN', 'ANET', 'ANSS', 'ANTM', 'AON', 'AOS', 'APA', 'APD', 'APH', 'APTV', 'ARE', 'ATO', 'ATVI', 'AVB', 'AVGO', 'AVY', 'AWK', 'AXP', 'AZO', 'BA', 'BAC', 'BAX', 'BBY', 'BDX', 'BEN', 'BF.B', 'BIIB', 'BIO', 'BK', 'BKNG', 'BKR', 'BLK', 'BLL', 'BMY', 'BR', 'BRK.B', 'BSX', 'BWA', 'BXP', 'C', 'CAG', 'CAH', 'CARR', 'CAT', 'CB', 'CBOE', 'CBRE', 'CCI', 'CCL', 'CDNS', 'CDW', 'CE', 'CERN', 'CF', 'CFG', 'CHD', 'CHRW', 'CHTR', 'CI', 'CINF', 'CL', 'CLX', 'CMA', 'CMCSA', 'CME', 'CMG', 'CMI', 'CMS', 'CNC', 'CNP', 'COF', 'COG', 'COO', 'COP', 'COST', 'COTY', 'CPB', 'CPRT', 'CRM', 'CSCO', 'CSX', 'CTAS', 'CTL', 'CTSH', 'CTVA', 'CTXS', 'CVS', 'CVX', 'CXO', 'D', 'DAL', 'DD', 'DE', 'DFS', 'DG', 'DGX', 'DHI', 'DHR', 'DIS', 'DISCA', 'DISCK', 'DISH', 'DLR', 'DLTR', 'DOV', 'DOW', 'DPZ', 'DRE', 'DRI', 'DTE', 'DUK', 'DVA', 'DVN', 'DXC', 'DXCM', 'EA', 'EBAY', 'ECL', 'ED', 'EFX', 'EIX', 'EL', 'EMN', 'EMR', 'EOG', 'EQIX', 'EQR', 'ES', 'ESS', 'ETFC', 'ETN', 'ETR', 'EVRG', 'EW', 'EXC', 'EXPD', 'EXPE', 'EXR', 'F', 'FANG', 'FAST', 'FB', 'FBHS', 'FCX', 'FDX', 'FE', 'FFIV', 'FIS', 'FISV', 'FITB', 'FLIR', 'FLS', 'FLT', 'FMC', 'FOX', 'FOXA', 'FRC', 'FRT', 'FTI', 'FTNT', 'FTV', 'GD', 'GE', 'GILD', 'GIS', 'GL', 'GLW', 'GM', 'GOOG', 'GOOGL', 'GPC', 'GPN', 'GPS', 'GRMN', 'GS', 'GWW', 'HAL', 'HAS', 'HBAN', 'HBI', 'HCA', 'HD', 'HES', 'HFC', 'HIG', 'HII', 'HLT', 'HOLX', 'HON', 'HPE', 'HPQ', 'HRB', 'HRL', 'HSIC', 'HST', 'HSY', 'HUM', 'HWM', 'IBM', 'ICE', 'IDXX', 'IEX', 'IFF', 'ILMN', 'INCY', 'INFO', 'INTC', 'INTU', 'IP', 'IPG', 'IPGP', 'IQV', 'IR', 'IRM', 'ISRG', 'IT', 'ITW', 'IVZ', 'J', 'JBHT', 'JCI', 'JKHY', 'JNJ', 'JNPR', 'JPM', 'K', 'KEY', 'KEYS', 'KHC', 'KIM', 'KLAC', 'KMB', 'KMI', 'KMX', 'KO', 'KR', 'KSS', 'KSU', 'L', 'LB', 'LDOS', 'LEG', 'LEN', 'LH', 'LHX', 'LIN', 'LKQ', 'LLY', 'LMT', 'LNC', 'LNT', 'LOW', 'LRCX', 'LUV', 'LVS', 'LW', 'LYB', 'LYV', 'MA', 'MAA', 'MAR', 'MAS', 'MCD', 'MCHP', 'MCK', 'MCO', 'MDLZ', 'MDT', 'MET', 'MGM', 'MHK', 'MKC', 'MKTX', 'MLM', 'MMC', 'MMM', 'MNST', 'MO', 'MOS', 'MPC', 'MRK', 'MRO', 'MS', 'MSCI', 'MSFT', 'MSI', 'MTB', 'MTD', 'MU', 'MXIM', 'MYL', 'NBL', 'NCLH', 'NDAQ', 'NEE', 'NEM', 'NFLX', 'NI', 'NKE', 'NLOK', 'NLSN', 'NOC', 'NOV', 'NOW', 'NRG', 'NSC', 'NTAP', 'NTRS', 'NUE', 'NVDA', 'NVR', 'NWL', 'NWS', 'NWSA', 'O', 'ODFL', 'OKE', 'OMC', 'ORCL', 'ORLY', 'OTIS', 'OXY', 'PAYC', 'PAYX', 'PBCT', 'PCAR', 'PEAK', 'PEG', 'PEP', 'PFE', 'PFG', 'PG', 'PGR', 'PH', 'PHM', 'PKG', 'PKI', 'PLD', 'PM', 'PNC', 'PNR', 'PNW', 'PPG', 'PPL', 'PRGO', 'PRU', 'PSA', 'PSX', 'PVH', 'PWR', 'PXD', 'PYPL', 'QCOM', 'QRVO', 'RCL', 'RE', 'REG', 'REGN', 'RF', 'RHI', 'RJF', 'RL', 'RMD', 'ROK', 'ROL', 'ROP', 'ROST', 'RSG', 'RTX', 'SBAC', 'SBUX', 'SCHW', 'SEE', 'SHW', 'SIVB', 'SJM', 'SLB', 'SLG', 'SNA', 'SNPS', 'SO', 'SPG', 'SPGI', 'SRE', 'STE', 'STT', 'STX', 'STZ', 'SWK', 'SWKS', 'SYF', 'SYK', 'SYY', 'T', 'TAP', 'TDG', 'TDY', 'TEL', 'TFC', 'TFX', 'TGT', 'TIF', 'TJX', 'TMO', 'TMUS', 'TPR', 'TROW', 'TRV', 'TSCO', 'TSN', 'TT', 'TTWO', 'TWTR', 'TXN', 'TXT', 'TYL', 'UA', 'UAA', 'UAL', 'UDR', 'UHS', 'ULTA', 'UNH', 'UNM', 'UNP', 'UPS', 'URI', 'USB', 'V', 'VAR', 'VFC', 'VIAC', 'VLO', 'VMC', 'VNO', 'VRSK', 'VRSN', 'VRTX', 'VTR', 'VZ', 'WAB', 'WAT', 'WBA', 'WDC', 'WEC', 'WELL', 'WFC', 'WHR', 'WLTW', 'WM', 'WMB', 'WMT', 'WRB', 'WRK', 'WST', 'WU', 'WY', 'WYNN', 'XEL', 'XLNX', 'XOM', 'XRAY', 'XRX', 'XYL', 'YUM', 'ZBH', 'ZBRA', 'ZION', 'ZTS']\n"
     ]
    }
   ],
   "source": [
    "sp500 = si.tickers_sp500()\n",
    "print(sp500)"
   ]
  },
  {
   "cell_type": "markdown",
   "metadata": {},
   "source": [
    "# api börse frankfurt\n",
    "\n",
    "## source\n",
    "https://www.boerse-frankfurt.de/aktie/hellofresh-se\n",
    "\n",
    "## historic\n",
    "\n",
    "https://api.boerse-frankfurt.de/data/price_history?limit=50&offset=0&isin=DE0007236101&mic=XFRA&minDate=2019-04-09&maxDate=2020-04-09\n",
    "https://api.boerse-frankfurt.de/data/historical_key_data?isin=DE0007236101&limit=5\n",
    "\n",
    "## stream\n",
    "\n",
    "daily information livestream\n",
    "https://api.boerse-frankfurt.de/data/price_information?isin=DE000A161408&mic=XETR\n",
    "\n",
    "ask/bid livestream\n",
    "https://api.boerse-frankfurt.de/data/bid_ask_overview?isin=DE000A161408&mic=\n",
    "\n",
    "quotebox?\n",
    "https://api.boerse-frankfurt.de/data/quote_box?isin=DE000A161408&mic=XETR\n",
    "\n",
    "news\n",
    "https://api.boerse-frankfurt.de/data/instrument_news?isin=DE000A161408&limit=2&newsType=ALL"
   ]
  },
  {
   "cell_type": "code",
   "execution_count": null,
   "metadata": {},
   "outputs": [],
   "source": []
  }
 ],
 "metadata": {
  "kernelspec": {
   "display_name": "pmining",
   "language": "python",
   "name": "pmining"
  },
  "language_info": {
   "codemirror_mode": {
    "name": "ipython",
    "version": 3
   },
   "file_extension": ".py",
   "mimetype": "text/x-python",
   "name": "python",
   "nbconvert_exporter": "python",
   "pygments_lexer": "ipython3",
   "version": "3.8.2"
  }
 },
 "nbformat": 4,
 "nbformat_minor": 4
}
